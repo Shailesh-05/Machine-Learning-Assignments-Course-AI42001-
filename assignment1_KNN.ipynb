{
 "cells": [
  {
   "cell_type": "markdown",
   "metadata": {
    "id": "6y8zrasK0r2Y"
   },
   "source": [
    "# **TUTORIAL 6**\n",
    "# Distance Based Classification"
   ]
  },
  {
   "cell_type": "markdown",
   "metadata": {
    "id": "eVEW-aBo4gka"
   },
   "source": [
    "In pattern recognition, the k-nearest neighbors algorithm is a non-parametric method used for classification and regression.It belongs to the supervised learning domain.\n",
    "\n",
    "We will understand it with a practice example, Steps we are going to follow are :\n",
    "\n",
    "1) Import important libraries\n",
    "\n",
    "2) Importing Data\n",
    "\n",
    "3) Encoding\n",
    "\n",
    "4)Training and Test Data\n",
    "\n",
    "5) Visualization of Data\n",
    "\n",
    "6) Nearest Neighbour Classifier\n",
    "\n",
    "7) k Nearest Neighbour\n",
    "\n",
    "8) Nearest Mean Classifier\n",
    "\n",
    "9) Compare Results\n",
    "\n",
    "10) sklearn Library\n",
    "\n",
    "---\n",
    "\n",
    "\n",
    "\n",
    "---\n",
    "\n"
   ]
  },
  {
   "cell_type": "markdown",
   "metadata": {
    "id": "uHdX_UCj8QVO"
   },
   "source": [
    "**1) Importing important libraries**"
   ]
  },
  {
   "cell_type": "code",
   "execution_count": null,
   "metadata": {
    "id": "Ca48WZPe853i"
   },
   "outputs": [],
   "source": [
    "import pandas as pd\n",
    "import matplotlib.pyplot as plt\n",
    "import numpy as np\n",
    "from sklearn.datasets import load_iris"
   ]
  },
  {
   "cell_type": "markdown",
   "metadata": {
    "id": "Q3ajjX6OI8HC"
   },
   "source": [
    "**2) Importing Data**\n",
    "\n",
    "We will be working on the Iris dataset today."
   ]
  },
  {
   "cell_type": "code",
   "execution_count": null,
   "metadata": {
    "id": "JVB0atL7Io6K"
   },
   "outputs": [],
   "source": [
    "data = load_iris()\n",
    "df = pd.DataFrame(data.data, columns=data.feature_names)\n",
    "df['Species']=data.target "
   ]
  },
  {
   "cell_type": "code",
   "execution_count": null,
   "metadata": {
    "colab": {
     "base_uri": "https://localhost:8080/",
     "height": 195
    },
    "id": "XMn096JBRGm2",
    "outputId": "d5203652-53f1-4b56-ee0e-8bd63e93a496"
   },
   "outputs": [],
   "source": [
    "df.head()"
   ]
  },
  {
   "cell_type": "markdown",
   "metadata": {
    "id": "y5S6-mpvKJD-"
   },
   "source": [
    "We will be taking 2 features, 'SepalLengthCm' and 'PetalWidthCm' for classification for easier visualization."
   ]
  },
  {
   "cell_type": "code",
   "execution_count": null,
   "metadata": {
    "id": "vHbH9RWSRPJ6"
   },
   "outputs": [],
   "source": [
    "# Write the code to choose columns 'SepalLengthCm', 'PetalWidthCm' and 'Species' from the dataframe 'df',\n",
    "# Make a new dataframe 'df_new' and assign the three columns to the new dataframe."
   ]
  },
  {
   "cell_type": "code",
   "execution_count": null,
   "metadata": {
    "id": "tXXGJrPwRRba"
   },
   "outputs": [],
   "source": [
    "#Write the code below\n",
    "\n"
   ]
  },
  {
   "cell_type": "code",
   "execution_count": null,
   "metadata": {
    "id": "aIZ6OtoqZi-m"
   },
   "outputs": [],
   "source": [
    "df_new.head()"
   ]
  },
  {
   "cell_type": "markdown",
   "metadata": {
    "id": "_z09_vfkKw7K"
   },
   "source": [
    "**3) Encoding**\n",
    "\n",
    "Now we will use Label Encoder to Encode the 'Species' column in numeric. For eg - the species Iris-setosa is encoded as 0, Iris-virginica as 2 and so on."
   ]
  },
  {
   "cell_type": "code",
   "execution_count": null,
   "metadata": {
    "id": "WSa4ils9AuE_"
   },
   "outputs": [],
   "source": [
    "# Do not make changes in this cell\n",
    "# Simply execute it and move on\n",
    "from sklearn.preprocessing import LabelEncoder\n",
    "labelencoder_Species = LabelEncoder()\n",
    "df_new['Species_encoded'] = labelencoder_Species.fit_transform(df_new['Species'])\n",
    "df_new"
   ]
  },
  {
   "cell_type": "markdown",
   "metadata": {
    "id": "4VEK-uUqcp_d"
   },
   "source": [
    "We break this into X (features - 'SepalLengthCm' and 'PetalWidthCm') and y (output which is 'Species_encoded')."
   ]
  },
  {
   "cell_type": "code",
   "execution_count": null,
   "metadata": {
    "id": "VAAz8OaHRclS"
   },
   "outputs": [],
   "source": [
    "# a)Write the code to choose columns 'SepalLengthCm' and 'PetalWidthCm' from the dataframe 'df_new',\n",
    "# and assign it to the new dataframe X.\n",
    "# b)Write the code to choose columns 'Species_encoded' from the dataframe 'df_new',\n",
    "# and assign it to the new dataframe y."
   ]
  },
  {
   "cell_type": "code",
   "execution_count": null,
   "metadata": {
    "id": "T5bmRGCpczjQ"
   },
   "outputs": [],
   "source": [
    "#Write the code below\n",
    "\n"
   ]
  },
  {
   "cell_type": "markdown",
   "metadata": {
    "id": "UD6bhJszb3iT"
   },
   "source": [
    "**4) Training and Test data**\n",
    "\n",
    "We will divide the dataset into training and test dataset to see the accuracy of each of the algorithms that we use :"
   ]
  },
  {
   "cell_type": "code",
   "execution_count": null,
   "metadata": {
    "id": "DeSGoSC9cGRT"
   },
   "outputs": [],
   "source": [
    "from sklearn.model_selection import train_test_split"
   ]
  },
  {
   "cell_type": "code",
   "execution_count": null,
   "metadata": {
    "id": "LMjKEmUeR52D"
   },
   "outputs": [],
   "source": [
    "# Split the dataset into 60% training and 40% test set\n",
    "# NOTE:- take random_state = 3\n",
    "# Take the variables as X_train, X_test, y_train and y_test"
   ]
  },
  {
   "cell_type": "code",
   "execution_count": null,
   "metadata": {
    "id": "mwVZl5JaR-AW"
   },
   "outputs": [],
   "source": [
    "#Write the code below\n",
    "\n"
   ]
  },
  {
   "cell_type": "markdown",
   "metadata": {
    "id": "VyTaNLqLVFyG"
   },
   "source": [
    "We can check the different types of species in the dataset using the unique function :"
   ]
  },
  {
   "cell_type": "code",
   "execution_count": null,
   "metadata": {
    "id": "hasTtJ29ThOc"
   },
   "outputs": [],
   "source": [
    "df_new['Species'].unique()"
   ]
  },
  {
   "cell_type": "markdown",
   "metadata": {
    "id": "PDfX6CHYLvnx"
   },
   "source": [
    "**5) Visualization of data**\n",
    "\n",
    "Now we will plot the two features on the x and y axis and plot the data with different colour according to the species. "
   ]
  },
  {
   "cell_type": "code",
   "execution_count": null,
   "metadata": {
    "id": "I6NKSRxAb91F"
   },
   "outputs": [],
   "source": [
    "# Write the code to create datasets according to the different categories of the species from the training set of features\n",
    "# and assign it to the new dataframes setosa, versicolor and virginica."
   ]
  },
  {
   "cell_type": "code",
   "execution_count": null,
   "metadata": {
    "id": "r-by0adGLl04"
   },
   "outputs": [],
   "source": [
    "#Create datasets according to the category\n",
    "#For the species setosa           \n",
    "\n",
    "#For the species versicolor          \n",
    "\n",
    "#For the species virginica   \n"
   ]
  },
  {
   "cell_type": "code",
   "execution_count": null,
   "metadata": {
    "id": "NA6hvqRpuqFL"
   },
   "outputs": [],
   "source": [
    "#Plot the data categorywise using scatter plot and visualize the data. Also include labels and legend.\n",
    "#Write the code below\n"
   ]
  },
  {
   "cell_type": "markdown",
   "metadata": {
    "id": "jivimtxl04D5"
   },
   "source": [
    "Let us import the time library to compare the timing of the 3 methods :"
   ]
  },
  {
   "cell_type": "code",
   "execution_count": null,
   "metadata": {
    "id": "2qSpXy1f09dl"
   },
   "outputs": [],
   "source": [
    "import time"
   ]
  },
  {
   "cell_type": "markdown",
   "metadata": {
    "id": "cITcO7SbZWcw"
   },
   "source": [
    "**6) Nearest Neighbour Classifier**\n",
    "\n"
   ]
  },
  {
   "cell_type": "code",
   "execution_count": null,
   "metadata": {
    "id": "stPr8k--gcke"
   },
   "outputs": [],
   "source": [
    "# Question 1) Write the algorithm for nearest neighbour classifier as learnt in the theory\n",
    "#             Assign the answer to ans[0] after converting the output of the method to tuple "
   ]
  },
  {
   "cell_type": "code",
   "execution_count": null,
   "metadata": {
    "id": "Hztil8AURSgo"
   },
   "outputs": [],
   "source": [
    "# Algorithm - Calculate the Euclidian distance for each test dataset by comparing with every trainig dataset and assign it to the variable 'val'\n",
    "#            The prediciton is the minimum value obtained from all the Euclidian distance calculated for that test datapoint\n",
    "# Assign the y_predict to ans[0] as a tuple => (0,1,0,2, and so on) "
   ]
  },
  {
   "cell_type": "code",
   "execution_count": null,
   "metadata": {
    "id": "KGVnniI3uJpH"
   },
   "outputs": [],
   "source": [
    "ans = [None] * 10\n",
    "start_time = time.time()                          # Starting the runtime for this cell\n",
    "y_predict = []                                    # Predicted values of y will be stored\n",
    "#Write the code below\n",
    "\n",
    "# 1 mark\n",
    "ans[0] = \n",
    "ans[0] = str(ans[0])\n",
    "time_NN = time.time() - start_time                # Final time taken"
   ]
  },
  {
   "cell_type": "markdown",
   "metadata": {
    "id": "czv-iPfLOaoj"
   },
   "source": [
    "We will concatenate the columns of predicted and y_test dataframe to X_test"
   ]
  },
  {
   "cell_type": "code",
   "execution_count": null,
   "metadata": {
    "id": "-gypIBLfiy59"
   },
   "outputs": [],
   "source": [
    "# a)Concatenate X_test and y_test dataframe by column and assign it to the new dataframe 'Test_Data'\n",
    "# b)Concatenate Test_data and Predicted dataframe by column assign it to the new dataframe 'Check_Prediction' "
   ]
  },
  {
   "cell_type": "code",
   "execution_count": null,
   "metadata": {
    "id": "WP_BNoymLC5I"
   },
   "outputs": [],
   "source": [
    "#Write the code below\n"
   ]
  },
  {
   "cell_type": "markdown",
   "metadata": {
    "id": "ktMbUpPE4t2E"
   },
   "source": [
    "We will calculate the accuracy now :"
   ]
  },
  {
   "cell_type": "code",
   "execution_count": null,
   "metadata": {
    "id": "7ByP9eMzpT7u"
   },
   "outputs": [],
   "source": [
    "# Question 2) Calculate the accuracy obtained for the algorithm used above\n",
    "#             Assign the accuracy to ans[1] and store it as 'Accuracy_NearestNeighbours'  "
   ]
  },
  {
   "cell_type": "code",
   "execution_count": null,
   "metadata": {
    "id": "gr6T3x-TfEvg"
   },
   "outputs": [],
   "source": [
    "#NOTE - Accuracy = Correct_Predictions/Total_Predictions\n",
    "#Write the code below\n",
    "\n",
    "\n",
    "# 1 mark\n",
    "ans[1] = "
   ]
  },
  {
   "cell_type": "markdown",
   "metadata": {
    "id": "N4t20uChOkLU"
   },
   "source": [
    "Now let us have a look at the values that we did not predicted correctly :"
   ]
  },
  {
   "cell_type": "code",
   "execution_count": null,
   "metadata": {
    "id": "vWNgSD6EBq1-"
   },
   "outputs": [],
   "source": [
    "#Plot the data categorywise using scatter plot and visualize the data. Also include labels and legend.\n",
    "#Write the code below\n",
    "\n",
    "\n",
    "\n",
    "\n",
    "\n",
    "#Implement the below code snippet to see the values that were not predicted correctly\n",
    "for index in Check_prediction.index:\n",
    "    if(Check_prediction['Species_encoded'][index]==Check_prediction['Predicted'][index]):\n",
    "        plt.scatter(Check_prediction['SepalLengthCm'][index],Check_prediction['PetalWidthCm'][index],marker='x',c='m')\n",
    "    else:\n",
    "        plt.scatter(Check_prediction['SepalLengthCm'][index],Check_prediction['PetalWidthCm'][index],marker='*',c='y')"
   ]
  },
  {
   "cell_type": "markdown",
   "metadata": {
    "id": "2YQu3nh8ZK5B"
   },
   "source": [
    "The magenta cross represents correct predictions and the yellow stars represent incorrect predictions.\n",
    "\n",
    "We see that even if there is an outlier, if the test value is close to that value, it will be predicted in that class, which may not always be right. Hence we move on to the k Nearest Neighbor."
   ]
  },
  {
   "cell_type": "markdown",
   "metadata": {
    "id": "d42m7X1Rnl8-"
   },
   "source": [
    "**7)  K Nearest Neighbour**\n",
    "\n",
    "Choosing the value of k for the algorithm could be a difficult task. A small value of k means that noise will have a higher influence on the result and a large value make it computationally expensive.\n",
    "\n",
    "We will have to check which value suits well. Let us start with k = 5.\n",
    "\n",
    "Now we will move on to K Nearest Neighbour classifier:"
   ]
  },
  {
   "cell_type": "code",
   "execution_count": null,
   "metadata": {
    "id": "k-7A0pPS0-Cd"
   },
   "outputs": [],
   "source": [
    "# Question 3) Algorithm - Calculate the Euclidian distance for each test dataset by comparing with every training dataset and assign it to the variable 'val'\n",
    "#            Sort the distances obtained and take the k smallest values.\n",
    "#            Take their species values.\n",
    "#            The prediciton is the maximum frequency among all the k sorted values.  \n",
    "#           # Assign the y_predict to ans[2] as a tuple => (0,1,0,2, and so on)  "
   ]
  },
  {
   "cell_type": "code",
   "execution_count": null,
   "metadata": {
    "id": "ffRlp-XvlwdV"
   },
   "outputs": [],
   "source": [
    "start_time = time.time()\n",
    "k = 5\n",
    "y_predict = []\n",
    "#Write the code below\n",
    "\n",
    "# 1 mark\n",
    "ans[2] = \n",
    "ans[2] = str(ans[2])\n",
    "time_k5_NN = time.time() - start_time"
   ]
  },
  {
   "cell_type": "code",
   "execution_count": null,
   "metadata": {
    "id": "pvD8-_XgXUjc"
   },
   "outputs": [],
   "source": [
    "# a):Concatenate X_test and y_test dataframe by column and assign it to the new dataframe 'Test_Data'\n",
    "# b):Concatenate Test_data and Predicted dataframe by column assign it to the new dataframe 'Check_Prediction' "
   ]
  },
  {
   "cell_type": "code",
   "execution_count": null,
   "metadata": {
    "id": "ox8v__QacRE9"
   },
   "outputs": [],
   "source": [
    "# Write the code below"
   ]
  },
  {
   "cell_type": "markdown",
   "metadata": {
    "id": "2RBcFcwKXUjg"
   },
   "source": [
    "We will calculate the accuracy now :"
   ]
  },
  {
   "cell_type": "code",
   "execution_count": null,
   "metadata": {
    "id": "jWs8A7Ql1NcM"
   },
   "outputs": [],
   "source": [
    "# Question 4) :Calculate the accuracy obtained for the algorithm used above\n",
    "#             Assign the accuracy to ans[3] and store it as 'Accuracy_k5_NearestNeighbours' "
   ]
  },
  {
   "cell_type": "code",
   "execution_count": null,
   "metadata": {
    "id": "r7fklHz_1NcM"
   },
   "outputs": [],
   "source": [
    "#NOTE - Accuracy = Correct_Predictions/Total_Predictions\n",
    "#Write the code below\n",
    "\n",
    "\n",
    "# 1 mark\n",
    "ans[3] = "
   ]
  },
  {
   "cell_type": "markdown",
   "metadata": {
    "id": "wBaLTpXuXUjj"
   },
   "source": [
    "Now let us have a look at the values that we did not predicted correctly :"
   ]
  },
  {
   "cell_type": "code",
   "execution_count": null,
   "metadata": {
    "id": "IRZR78zY1dQU"
   },
   "outputs": [],
   "source": [
    "#Plot the data categorywise using scatter plot and visualize the data. Also include labels and legend.\n",
    "# Write the code below\n",
    "\n",
    "\n",
    "\n",
    "\n",
    "\n",
    "#Implement the below code snippet to see the values that were not predicted correctly\n",
    "for index in Check_prediction.index:\n",
    "    if(Check_prediction['Species_encoded'][index]==Check_prediction['Predicted'][index]):\n",
    "        plt.scatter(Check_prediction['SepalLengthCm'][index],Check_prediction['PetalWidthCm'][index],marker='x',c='m')\n",
    "    else:\n",
    "        plt.scatter(Check_prediction['SepalLengthCm'][index],Check_prediction['PetalWidthCm'][index],marker='*',c='y')"
   ]
  },
  {
   "cell_type": "markdown",
   "metadata": {
    "id": "zc3PoFufzQwD"
   },
   "source": [
    "From this plot, it is visible that some of the outlier cases wrongly predicted in previous method are being taken care of by kNN. Still there could always be some errors near boundary lines."
   ]
  },
  {
   "cell_type": "markdown",
   "metadata": {
    "id": "lDfbhdnZZ502"
   },
   "source": [
    "Choosing an optimum value of k is very important. Let us see the problems when k is too large or too less.\n",
    "\n",
    "First when k is too small :\n",
    "\n",
    "Let us check for k = 1."
   ]
  },
  {
   "cell_type": "markdown",
   "metadata": {
    "id": "hW5OhE3KMvc7"
   },
   "source": [
    "We are adding some outliers in the data to see what the KNN for k=1 predicts."
   ]
  },
  {
   "cell_type": "code",
   "execution_count": null,
   "metadata": {
    "id": "VwoYvjYvMxTv"
   },
   "outputs": [],
   "source": [
    "#adding outliers in the data\n",
    "X_test.loc[len(X_test.index)] = [4.5, 1.5]  \n",
    "X_test.loc[len(X_test.index)] = [4.8, 1.5]  \n",
    "X_test.loc[len(X_test.index)] = [7, 1.5]  \n",
    "X_test.loc[len(X_test.index)] = [5, 0.85]  \n",
    "y_test.loc[len(y_test.index)] = [1] \n",
    "y_test.loc[len(y_test.index)] = [1]\n",
    "y_test.loc[len(y_test.index)] = [2]\n",
    "y_test.loc[len(y_test.index)] = [0] "
   ]
  },
  {
   "cell_type": "code",
   "execution_count": null,
   "metadata": {
    "id": "5zjeeRagcVzd"
   },
   "outputs": [],
   "source": [
    "# Now implement KNN algorithm with k = 1"
   ]
  },
  {
   "cell_type": "code",
   "execution_count": null,
   "metadata": {
    "id": "8Wq7Ib-ZcVl9"
   },
   "outputs": [],
   "source": [
    "start_time = time.time()\n",
    "k = 1\n",
    "y_predict = []\n",
    "#Write the code below\n",
    "\n",
    "\n",
    "time_k1_NN = time.time() - start_time"
   ]
  },
  {
   "cell_type": "code",
   "execution_count": null,
   "metadata": {
    "id": "_BDRidu-cVWF"
   },
   "outputs": [],
   "source": [
    "# a):Concatenate X_test and y_test dataframe by column and assign it to the new dataframe 'Test_Data'\n",
    "# b):Concatenate Test_data and Predicted dataframe by column assign it to the new dataframe 'Check_Prediction' "
   ]
  },
  {
   "cell_type": "code",
   "execution_count": null,
   "metadata": {
    "id": "sXXswMHLcfK2"
   },
   "outputs": [],
   "source": [
    "# Write the code below\n"
   ]
  },
  {
   "cell_type": "markdown",
   "metadata": {
    "id": "tK_MsXnvckcs"
   },
   "source": [
    "We will calculate the accuracy now :"
   ]
  },
  {
   "cell_type": "code",
   "execution_count": null,
   "metadata": {
    "id": "B-dsgrFscl_u"
   },
   "outputs": [],
   "source": [
    "# Question 5) :Calculate the accuracy obtained for the algorithm used above\n",
    "#             Assign the accuracy to ans[4] and store it as 'Accuracy_k2_NearestNeighbours'"
   ]
  },
  {
   "cell_type": "code",
   "execution_count": null,
   "metadata": {
    "id": "_K6iUEzUcoIu"
   },
   "outputs": [],
   "source": [
    "#NOTE - Accuracy = Correct_Predictions/Total_Predictions\n",
    "#Write the code below\n",
    "\n",
    "\n",
    "# 1 mark\n",
    "ans[4] = "
   ]
  },
  {
   "cell_type": "markdown",
   "metadata": {
    "id": "s7qE06gMMooU"
   },
   "source": [
    "As we can clearly see that KNN for k=1 doesn't do well in case of outliers. Hence, we increase the value of k to get better results."
   ]
  },
  {
   "cell_type": "markdown",
   "metadata": {
    "id": "kXWMlk5gcsy2"
   },
   "source": [
    "Let us check for k = 2."
   ]
  },
  {
   "cell_type": "code",
   "execution_count": null,
   "metadata": {
    "id": "fpgM3Lca1ui1"
   },
   "outputs": [],
   "source": [
    "# Now implement KNN algorithm with k = 2"
   ]
  },
  {
   "cell_type": "code",
   "execution_count": null,
   "metadata": {
    "id": "CA-Il-VBaF5z"
   },
   "outputs": [],
   "source": [
    "start_time = time.time()\n",
    "k = 2\n",
    "y_predict = []\n",
    "#Write the code below\n",
    "\n",
    "\n",
    "time_k2_NN = time.time() - start_time"
   ]
  },
  {
   "cell_type": "code",
   "execution_count": null,
   "metadata": {
    "id": "iGRYyAJDaF52"
   },
   "outputs": [],
   "source": [
    "# a):Concatenate X_test and y_test dataframe by column and assign it to the new dataframe 'Test_Data'\n",
    "# b):Concatenate Test_data and Predicted dataframe by column assign it to the new dataframe 'Check_Prediction' "
   ]
  },
  {
   "cell_type": "code",
   "execution_count": null,
   "metadata": {
    "id": "gcnnpnjncJ3m"
   },
   "outputs": [],
   "source": [
    "# Write the code below\n"
   ]
  },
  {
   "cell_type": "markdown",
   "metadata": {
    "id": "PAQmE2lraF55"
   },
   "source": [
    "We will calculate the accuracy now :"
   ]
  },
  {
   "cell_type": "code",
   "execution_count": null,
   "metadata": {
    "id": "p_G7wBru2HZT"
   },
   "outputs": [],
   "source": [
    "# Question 6) :Calculate the accuracy obtained for the algorithm used above\n",
    "#             Assign the accuracy to ans[5] and store it as 'Accuracy_k2_NearestNeighbours'"
   ]
  },
  {
   "cell_type": "code",
   "execution_count": null,
   "metadata": {
    "id": "BpdEvNnj2HZT"
   },
   "outputs": [],
   "source": [
    "#NOTE - Accuracy = Correct_Predictions/Total_Predictions\n",
    "#Write the code below\n",
    "\n",
    "\n",
    "# 1 mark\n",
    "ans[5] = "
   ]
  },
  {
   "cell_type": "markdown",
   "metadata": {
    "id": "2AepSoF4aF58"
   },
   "source": [
    "As we can see, when k is too small, it is better than Nearest Neighbour but __A__ accurate than k = 5.\n",
    "\n"
   ]
  },
  {
   "cell_type": "code",
   "execution_count": null,
   "metadata": {
    "id": "y1PQAA7m9Ohf"
   },
   "outputs": [],
   "source": [
    "#Question 7) What will come inplace of A \n",
    "#            Assign the answer to ans[6] for A \n",
    "# A = less or more? Write your response as \"less\" or \"more\" to the ans[6].\n",
    "# Answer is case sensitive. Adhere to the choices given."
   ]
  },
  {
   "cell_type": "code",
   "execution_count": null,
   "metadata": {
    "id": "e3kA0eBi9fy1"
   },
   "outputs": [],
   "source": [
    "# 1 marks\n",
    "ans[6] = "
   ]
  },
  {
   "cell_type": "markdown",
   "metadata": {
    "id": "SxPf-gq6dQvO"
   },
   "source": [
    "Now let us see when k is large, for example k = 12 :"
   ]
  },
  {
   "cell_type": "code",
   "execution_count": null,
   "metadata": {
    "id": "KDQV9-_R26rN"
   },
   "outputs": [],
   "source": [
    "# Now implement KNN algorithm with k = 12"
   ]
  },
  {
   "cell_type": "code",
   "execution_count": null,
   "metadata": {
    "id": "Yg2JI9FwcVOX"
   },
   "outputs": [],
   "source": [
    "start_time = time.time()\n",
    "k = 12\n",
    "y_predict = []\n",
    "#Write the code below\n",
    "\n",
    "\n",
    "time_k12_NN = time.time() - start_time"
   ]
  },
  {
   "cell_type": "code",
   "execution_count": null,
   "metadata": {
    "id": "SG7GuZyMcVOb"
   },
   "outputs": [],
   "source": [
    "# a):Concatenate X_test and y_test dataframe by column and assign it to the new dataframe 'Test_Data'\n",
    "# b):Concatenate Test_data and Predicted dataframe by column assign it to the new dataframe 'Check_Prediction'"
   ]
  },
  {
   "cell_type": "code",
   "execution_count": null,
   "metadata": {
    "id": "qY751odXdn5W"
   },
   "outputs": [],
   "source": [
    "#Write the code below\n",
    "\n"
   ]
  },
  {
   "cell_type": "markdown",
   "metadata": {
    "id": "6CVyENsMcVOd"
   },
   "source": [
    "We will calculate the accuracy now :"
   ]
  },
  {
   "cell_type": "code",
   "execution_count": null,
   "metadata": {
    "id": "WesRmsvV3JIc"
   },
   "outputs": [],
   "source": [
    "# Question 8) :Calculate the accuracy obtained for the algorithm used above\n",
    "#              Assign the accuracy to ans[7] and store it as 'Accuracy_k12_NearestNeighbours'"
   ]
  },
  {
   "cell_type": "code",
   "execution_count": null,
   "metadata": {
    "id": "frhJJzlv3JIc"
   },
   "outputs": [],
   "source": [
    "#NOTE - Accuracy = Correct_Predictions/Total_Predictions\n",
    "#Write the code below\n",
    "\n",
    "\n",
    "# 1 mark\n",
    "ans[7] = "
   ]
  },
  {
   "cell_type": "markdown",
   "metadata": {
    "id": "XL9xXPYlc4kY"
   },
   "source": [
    "We see that the accuracy is good but it is lower than when k = 5. This is because when the dataset is small and the value of k is too big, it looks at too many points in the surrounding and sometimes gets the wrong prediction about which class it belongs to."
   ]
  },
  {
   "cell_type": "markdown",
   "metadata": {
    "id": "E00_t_Zlwq88"
   },
   "source": [
    "**8) Nearest Mean Classification**\n",
    "\n",
    "Here we take the mean for each of the classes and compare the test cases with them to reduce computational time."
   ]
  },
  {
   "cell_type": "code",
   "execution_count": null,
   "metadata": {
    "id": "fUjxOuL_vsRe"
   },
   "outputs": [],
   "source": [
    "setosa_PetalWidth = setosa['PetalWidthCm'].mean()                         # Calculate the mean for all the features of all the classes\n",
    "setosa_SepalLength = setosa['SepalLengthCm'].mean()\n",
    "\n",
    "virginica_PetalWidth = virginica['PetalWidthCm'].mean()\n",
    "virginica_SepalLength = virginica['SepalLengthCm'].mean()\n",
    "\n",
    "versicolor_PetalWidth = versicolor['PetalWidthCm'].mean()\n",
    "versicolor_SepalLength = versicolor['SepalLengthCm'].mean()"
   ]
  },
  {
   "cell_type": "code",
   "execution_count": null,
   "metadata": {
    "id": "NsP2J79C4xo2"
   },
   "outputs": [],
   "source": [
    "# Algorithm - Calculate the Euclidian distance for each test dataset by comparing with mean of every class\n",
    "#            The predicited class is the minimum value obtained from all the Euclidian distance calculated for that test datapoint "
   ]
  },
  {
   "cell_type": "code",
   "execution_count": null,
   "metadata": {
    "id": "RiKS0mxgxGV3"
   },
   "outputs": [],
   "source": [
    "start_time = time.time()\n",
    "y_predict = []\n",
    "#Write the code below\n",
    "\n",
    "\n",
    "\n",
    "\n",
    "time_NM = time.time() - start_time"
   ]
  },
  {
   "cell_type": "code",
   "execution_count": null,
   "metadata": {
    "id": "kOAwdVn-XdNL"
   },
   "outputs": [],
   "source": [
    "# a):Concatenate X_test and y_test dataframe by column and assign it to the new dataframe 'Test_Data'\n",
    "# b):Concatenate Test_data and Predicted dataframe by column assign it to the new dataframe 'Check_Prediction'"
   ]
  },
  {
   "cell_type": "code",
   "execution_count": null,
   "metadata": {
    "id": "JKuE_0hFdkwe"
   },
   "outputs": [],
   "source": [
    "#Write the code below\n",
    "\n"
   ]
  },
  {
   "cell_type": "markdown",
   "metadata": {
    "id": "mGLQqIa8XdNO"
   },
   "source": [
    "We will calculate the accuracy now :"
   ]
  },
  {
   "cell_type": "code",
   "execution_count": null,
   "metadata": {
    "id": "cWjfMLG-53de"
   },
   "outputs": [],
   "source": [
    "# Question 9) :Calculate the accuracy obtained for the algorithm used above\n",
    "#              Assign the accuracy to ans[8] and store it as 'Accuracy_NearestMean'"
   ]
  },
  {
   "cell_type": "code",
   "execution_count": null,
   "metadata": {
    "id": "O2wX75VG53de"
   },
   "outputs": [],
   "source": [
    "#NOTE - Accuracy = Correct_Predictions/Total_Predictions\n",
    "#Write the code below\n",
    "\n",
    "\n",
    "# 1 mark\n",
    "ans[8] = "
   ]
  },
  {
   "cell_type": "markdown",
   "metadata": {
    "id": "UvlN-5zaXdNR"
   },
   "source": [
    "Now let us have a look at the values that we did not predicted correctly :"
   ]
  },
  {
   "cell_type": "code",
   "execution_count": null,
   "metadata": {
    "id": "8ffJPAGZ6EEg"
   },
   "outputs": [],
   "source": [
    "#Plot the data category wise using scatter plot and visualize the data. Also include labels and legend.\n",
    "#Write the code below\n",
    "\n",
    "\n",
    "\n",
    "\n",
    "\n",
    "#Implement the below code snippet to see the values that were not predicted correctly\n",
    "for index in Check_prediction.index:\n",
    "    if(Check_prediction['Species_encoded'][index]==Check_prediction['Predicted'][index]):\n",
    "        plt.scatter(Check_prediction['SepalLengthCm'][index],Check_prediction['PetalWidthCm'][index],marker='x',c='m')\n",
    "    else:\n",
    "        plt.scatter(Check_prediction['SepalLengthCm'][index],Check_prediction['PetalWidthCm'][index],marker='*',c='y')"
   ]
  },
  {
   "cell_type": "markdown",
   "metadata": {
    "id": "DBMGlXuIzne2"
   },
   "source": [
    "We should only use this method if time complexity is really important to us as this method estimates the boundary just based on the mean which cannot be always relied on. Hence we see that as the mean of Green and Blue are close together, there are many wrong predictions in that region."
   ]
  },
  {
   "cell_type": "markdown",
   "metadata": {
    "id": "5LXFnIyY7aLu"
   },
   "source": [
    "**9) Compare Results**"
   ]
  },
  {
   "cell_type": "code",
   "execution_count": null,
   "metadata": {
    "id": "Q534dbt_0fvi"
   },
   "outputs": [],
   "source": [
    "# Do not make changes in this cell\n",
    "# Simply execute it and move on\n",
    "print(\"ACCURACIES:\\n\")\n",
    "print(\"Nearest Neighbours=\",Accuracy_NearestNeighbours)\n",
    "print(\"K Nearest Neighbours(k = 5) =\",Accuracy_k5_NearestNeighbours)\n",
    "print(\"K Nearest Neighbours(k = 2) =\",Accuracy_k2_NearestNeighbours)\n",
    "print(\"K Nearest Neighbours(k = 12) =\",Accuracy_k12_NearestNeighbours)\n",
    "print(\"Nearest Mean=\",Accuracy_NearestMean)\n",
    "print(\"=========================================================================\")\n",
    "print(\"TIMINGS:\\n\")\n",
    "print(\"Nearest Neighbours=\",time_NN)\n",
    "print(\"K Nearest Neighbours(k = 5) =\",time_k5_NN)\n",
    "print(\"K Nearest Neighbours(k = 2) =\",time_k2_NN)\n",
    "print(\"K Nearest Neighbours(k = 12) =\",time_k12_NN)\n",
    "print(\"Nearest Mean=\",time_NM)\n",
    "print(\"=========================================================================\")"
   ]
  },
  {
   "cell_type": "markdown",
   "metadata": {
    "id": "BlAlz9e2fX0Y"
   },
   "source": [
    "On comparing the 3 timings of kNN, we see that the model with least k takes the __B__ time. It feels wrong but it does makes sense. I will explain why.\n",
    "\n",
    "When k is low, the decision boundary changes a lot of times, ie there is a sudden change in the class in a small distance, while when k is large, the decision boundary is smoother and does not changes as often which helps when it comes to time complexity."
   ]
  },
  {
   "cell_type": "code",
   "execution_count": null,
   "metadata": {
    "id": "OS-Q6NNfeg5G"
   },
   "outputs": [],
   "source": [
    "#Question 10) What will come inplace of B \n",
    "#            Assign the answer to ans[9] for B \n",
    "# B = highest or lowest? Write your response as \"highest\" or \"lowest\" to the ans[9].\n",
    "# Answer is case sensitive. Adhere to the choices given."
   ]
  },
  {
   "cell_type": "code",
   "execution_count": null,
   "metadata": {
    "id": "acY-paqEekLA"
   },
   "outputs": [],
   "source": [
    "# 1 marks\n",
    "ans[9] =  "
   ]
  },
  {
   "cell_type": "markdown",
   "metadata": {
    "id": "iHuE2_8j218i"
   },
   "source": [
    "On comparing the 3 plots, we can see that most of the errors occur at the boundary of 2 different classes. We reduce it slightly using the k nearest neighbours but not completely. \n",
    "\n",
    "Although Nearest mean has a significantly lower time than the other 2 processes, it is not a preffered method. It is because it has very low accuracy and it is very uncertain.\n",
    "\n",
    "The most preffered algorithm is the k nearest neighbour algorithm as it gives very good accuracy as well as acceptable runtime."
   ]
  },
  {
   "cell_type": "markdown",
   "metadata": {
    "id": "OIf1KR2Sf-vP"
   },
   "source": [
    "**sklearn Library**"
   ]
  },
  {
   "cell_type": "markdown",
   "metadata": {
    "id": "vgcrHnVKgExY"
   },
   "source": [
    "There is an inbuilt function to directly perform kNN from sklearn library."
   ]
  },
  {
   "cell_type": "code",
   "execution_count": null,
   "metadata": {
    "id": "e-0-jShel5GV"
   },
   "outputs": [],
   "source": [
    "# Do not make changes in the below cells\n",
    "# Simply execute it and move on"
   ]
  },
  {
   "cell_type": "code",
   "execution_count": null,
   "metadata": {
    "id": "hR4B5bIbgD9k"
   },
   "outputs": [],
   "source": [
    "# Import the library\n",
    "\n",
    "from sklearn.neighbors import KNeighborsClassifier "
   ]
  },
  {
   "cell_type": "markdown",
   "metadata": {
    "id": "FTsAEdWpg0qm"
   },
   "source": [
    "We will first do for k = 4"
   ]
  },
  {
   "cell_type": "code",
   "execution_count": null,
   "metadata": {
    "id": "L7zbW464gplX"
   },
   "outputs": [],
   "source": [
    "neigh = KNeighborsClassifier(n_neighbors=4)\n",
    "neigh.fit(X_train,y_train)\n",
    "Predicted = neigh.predict(X_test)\n",
    "print(Predicted)"
   ]
  },
  {
   "cell_type": "markdown",
   "metadata": {
    "id": "VUWpQ5DFhf4s"
   },
   "source": [
    "sklearn also has a funtion to calculate accuracy"
   ]
  },
  {
   "cell_type": "code",
   "execution_count": null,
   "metadata": {
    "id": "6vaxkYyagtoB"
   },
   "outputs": [],
   "source": [
    "#Import scikit-learn metrics module for accuracy calculation\n",
    "from sklearn import metrics\n",
    "# Model Accuracy, how often is the classifier correct?\n",
    "print(\"Accuracy = \",metrics.accuracy_score(y_test,Predicted))"
   ]
  },
  {
   "cell_type": "code",
   "execution_count": null,
   "metadata": {
    "id": "At5RTZpqK3e0"
   },
   "outputs": [],
   "source": [
    "# Run the this cell to submit your answers and get score evaluated\"\n",
    "# Do not make any changes in this cell\n",
    "# Simply execute it and move on\n",
    "\n",
    "ans = [item for item in ans]\n",
    "with open('ans.json', 'w') as f:\n",
    "    json.dump(ans, f)"
   ]
  },
  {
   "cell_type": "code",
   "execution_count": null,
   "metadata": {},
   "outputs": [],
   "source": [
    "! ../submit ans.json"
   ]
  },
  {
   "cell_type": "markdown",
   "metadata": {
    "id": "8QQD6620h0fw"
   },
   "source": [
    "That is all for Tutorial 6."
   ]
  }
 ],
 "metadata": {
  "colab": {
   "collapsed_sections": [],
   "name": "KNN(Project)-Akshat_Kumar_Gupta.ipynb",
   "provenance": [],
   "toc_visible": true
  },
  "kernelspec": {
   "display_name": "Python 3",
   "language": "python",
   "name": "python3"
  },
  "language_info": {
   "codemirror_mode": {
    "name": "ipython",
    "version": 3
   },
   "file_extension": ".py",
   "mimetype": "text/x-python",
   "name": "python",
   "nbconvert_exporter": "python",
   "pygments_lexer": "ipython3",
   "version": "3.6.9"
  }
 },
 "nbformat": 4,
 "nbformat_minor": 1
}
