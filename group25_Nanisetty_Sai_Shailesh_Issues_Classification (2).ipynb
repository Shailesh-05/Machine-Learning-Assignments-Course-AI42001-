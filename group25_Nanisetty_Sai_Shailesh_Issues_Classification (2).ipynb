{
  "nbformat": 4,
  "nbformat_minor": 0,
  "metadata": {
    "colab": {
      "name": "group25_Nanisetty_Sai_Shailesh_Issues_Classification.ipynb",
      "provenance": [],
      "collapsed_sections": []
    },
    "kernelspec": {
      "display_name": "Python 3",
      "language": "python",
      "name": "python3"
    },
    "language_info": {
      "codemirror_mode": {
        "name": "ipython",
        "version": 3
      },
      "file_extension": ".py",
      "mimetype": "text/x-python",
      "name": "python",
      "nbconvert_exporter": "python",
      "pygments_lexer": "ipython3",
      "version": "3.8.8"
    }
  },
  "cells": [
    {
      "cell_type": "markdown",
      "metadata": {
        "id": "5xq_PZhIKjqH"
      },
      "source": [
        "# **OVERFITTING AND PRUNING**\n",
        "\n",
        "The first part of the assignment will focus on overfitting and the second part will focus on pruning.\n",
        "\n",
        "Overfitting is a condition when your model fits your training data too well including the noisy labels. Therefore it fails to generalise and its performance on the test set decreases.\n",
        "\n",
        "Pruning is one method to overcome overfitting in Decision Trees. We will essentially look at one way of pruning.\n"
      ]
    },
    {
      "cell_type": "markdown",
      "metadata": {
        "id": "Tq7mQaj9KyKy"
      },
      "source": [
        "## IMPORTING THE PACKAGES\n",
        "\n",
        "The important packages have been imported for you."
      ]
    },
    {
      "cell_type": "code",
      "metadata": {
        "id": "zp32CD8iKYEN"
      },
      "source": [
        "import numpy as np\n",
        "import pandas as pd\n",
        "import matplotlib.pyplot as plt\n",
        "from sklearn.tree import DecisionTreeRegressor\n",
        "from sklearn import metrics\n",
        "from sklearn.datasets import load_breast_cancer, load_diabetes\n",
        "from sklearn.model_selection import train_test_split\n",
        "import json\n",
        "\n",
        "ans = [0]*8"
      ],
      "execution_count": 1,
      "outputs": []
    },
    {
      "cell_type": "markdown",
      "metadata": {
        "id": "EtfmDrFfLSG_"
      },
      "source": [
        "## LOADING THE DATASET\n",
        "\n",
        "We will load the dataset into the dataset variable. It is a diabetes dataset, a regression problem.\n",
        "\n",
        "There are 11 features (numerical). They include measurements like bmi, sugar level etc. The column names have been set as Feature1, Feature2 etc for ease.\n",
        "\n",
        "The target variable(numerical) is a quantitative measure of how much the disease has progressed. "
      ]
    },
    {
      "cell_type": "code",
      "metadata": {
        "id": "x6AzbFhvMxA3",
        "colab": {
          "base_uri": "https://localhost:8080/",
          "height": 238
        },
        "outputId": "49de98b8-8014-4292-db40-9e400351c916"
      },
      "source": [
        "# LOADING THE DATASET USING SKLEARN.\n",
        "# THE CODE HAS BEEN WRITTEN FOR YOU. DO NOT MAKE ANY CHANGES.\n",
        "\n",
        "data, label = load_diabetes(return_X_y = True)                    #loading the dataset\n",
        "cols = [\"Feature\"+str(i) for i in range(1, 11)] \n",
        "dataset = pd.DataFrame(np.concatenate((data, label.reshape(-1, 1)), axis = 1), columns = cols + [\"Target\"])\n",
        "print(\"Shape of Dataset : \", dataset.shape, \"\\n\")\n",
        "dataset.head()"
      ],
      "execution_count": 2,
      "outputs": [
        {
          "output_type": "stream",
          "name": "stdout",
          "text": [
            "Shape of Dataset :  (442, 11) \n",
            "\n"
          ]
        },
        {
          "output_type": "execute_result",
          "data": {
            "text/html": [
              "<div>\n",
              "<style scoped>\n",
              "    .dataframe tbody tr th:only-of-type {\n",
              "        vertical-align: middle;\n",
              "    }\n",
              "\n",
              "    .dataframe tbody tr th {\n",
              "        vertical-align: top;\n",
              "    }\n",
              "\n",
              "    .dataframe thead th {\n",
              "        text-align: right;\n",
              "    }\n",
              "</style>\n",
              "<table border=\"1\" class=\"dataframe\">\n",
              "  <thead>\n",
              "    <tr style=\"text-align: right;\">\n",
              "      <th></th>\n",
              "      <th>Feature1</th>\n",
              "      <th>Feature2</th>\n",
              "      <th>Feature3</th>\n",
              "      <th>Feature4</th>\n",
              "      <th>Feature5</th>\n",
              "      <th>Feature6</th>\n",
              "      <th>Feature7</th>\n",
              "      <th>Feature8</th>\n",
              "      <th>Feature9</th>\n",
              "      <th>Feature10</th>\n",
              "      <th>Target</th>\n",
              "    </tr>\n",
              "  </thead>\n",
              "  <tbody>\n",
              "    <tr>\n",
              "      <th>0</th>\n",
              "      <td>0.038076</td>\n",
              "      <td>0.050680</td>\n",
              "      <td>0.061696</td>\n",
              "      <td>0.021872</td>\n",
              "      <td>-0.044223</td>\n",
              "      <td>-0.034821</td>\n",
              "      <td>-0.043401</td>\n",
              "      <td>-0.002592</td>\n",
              "      <td>0.019908</td>\n",
              "      <td>-0.017646</td>\n",
              "      <td>151.0</td>\n",
              "    </tr>\n",
              "    <tr>\n",
              "      <th>1</th>\n",
              "      <td>-0.001882</td>\n",
              "      <td>-0.044642</td>\n",
              "      <td>-0.051474</td>\n",
              "      <td>-0.026328</td>\n",
              "      <td>-0.008449</td>\n",
              "      <td>-0.019163</td>\n",
              "      <td>0.074412</td>\n",
              "      <td>-0.039493</td>\n",
              "      <td>-0.068330</td>\n",
              "      <td>-0.092204</td>\n",
              "      <td>75.0</td>\n",
              "    </tr>\n",
              "    <tr>\n",
              "      <th>2</th>\n",
              "      <td>0.085299</td>\n",
              "      <td>0.050680</td>\n",
              "      <td>0.044451</td>\n",
              "      <td>-0.005671</td>\n",
              "      <td>-0.045599</td>\n",
              "      <td>-0.034194</td>\n",
              "      <td>-0.032356</td>\n",
              "      <td>-0.002592</td>\n",
              "      <td>0.002864</td>\n",
              "      <td>-0.025930</td>\n",
              "      <td>141.0</td>\n",
              "    </tr>\n",
              "    <tr>\n",
              "      <th>3</th>\n",
              "      <td>-0.089063</td>\n",
              "      <td>-0.044642</td>\n",
              "      <td>-0.011595</td>\n",
              "      <td>-0.036656</td>\n",
              "      <td>0.012191</td>\n",
              "      <td>0.024991</td>\n",
              "      <td>-0.036038</td>\n",
              "      <td>0.034309</td>\n",
              "      <td>0.022692</td>\n",
              "      <td>-0.009362</td>\n",
              "      <td>206.0</td>\n",
              "    </tr>\n",
              "    <tr>\n",
              "      <th>4</th>\n",
              "      <td>0.005383</td>\n",
              "      <td>-0.044642</td>\n",
              "      <td>-0.036385</td>\n",
              "      <td>0.021872</td>\n",
              "      <td>0.003935</td>\n",
              "      <td>0.015596</td>\n",
              "      <td>0.008142</td>\n",
              "      <td>-0.002592</td>\n",
              "      <td>-0.031991</td>\n",
              "      <td>-0.046641</td>\n",
              "      <td>135.0</td>\n",
              "    </tr>\n",
              "  </tbody>\n",
              "</table>\n",
              "</div>"
            ],
            "text/plain": [
              "   Feature1  Feature2  Feature3  ...  Feature9  Feature10  Target\n",
              "0  0.038076  0.050680  0.061696  ...  0.019908  -0.017646   151.0\n",
              "1 -0.001882 -0.044642 -0.051474  ... -0.068330  -0.092204    75.0\n",
              "2  0.085299  0.050680  0.044451  ...  0.002864  -0.025930   141.0\n",
              "3 -0.089063 -0.044642 -0.011595  ...  0.022692  -0.009362   206.0\n",
              "4  0.005383 -0.044642 -0.036385  ... -0.031991  -0.046641   135.0\n",
              "\n",
              "[5 rows x 11 columns]"
            ]
          },
          "metadata": {},
          "execution_count": 2
        }
      ]
    },
    {
      "cell_type": "markdown",
      "metadata": {
        "id": "olzQ3DBgPMBo"
      },
      "source": [
        "## DIVIDING THE DATASET INTO TRAIN AND TEST SET\n",
        "\n",
        "You need to divide the dataset into train and test set using sklearn's train_test_split(x, y, random_state = 15, test_size = x) function. x is the fraction of examples to be alloted to the test set.\n",
        "\n",
        "You need to divide the dataset in 8:2 ratio (train:test size).\n",
        "\n",
        "**NOTE**: Remember to keep random_state = 15 (produces consistent results for evaluation purposes)."
      ]
    },
    {
      "cell_type": "code",
      "metadata": {
        "id": "p6LurLByNV5V"
      },
      "source": [
        "# DIVIDE THE DATASET INTO TRAIN AND TEST SET\n",
        "\n",
        "# START YOUR CODE HERE:\n",
        "\n",
        "data_matrix = dataset.drop(columns = [\"Target\"])\n",
        "target_vector = dataset[\"Target\"]\n",
        "x_train, x_test, y_train, y_test = train_test_split(data_matrix, target_vector, random_state = 15, test_size = 0.2)\n",
        "\n",
        "\n",
        "# END YOUR CODE HERE"
      ],
      "execution_count": 3,
      "outputs": []
    },
    {
      "cell_type": "markdown",
      "metadata": {
        "id": "lOWZaL8sRpAp"
      },
      "source": [
        "## **QUESTIONS**\n",
        "## **OVERFITTING**\n",
        "\n",
        "It is when your model is too complex and fits the noisy parts of your training data. Therefore it fails to generalize and achieves a bad result on the test set."
      ]
    },
    {
      "cell_type": "markdown",
      "metadata": {
        "id": "GpzH7kRlSOri"
      },
      "source": [
        "### **QUESTION 1**: Fit a Decision Tree Classifier with max_depth = 1 on the training dataset. Assign the train set mean squared error to ans[0] and the test set mean squared error to ans[1]. (1 mark)\n",
        "\n"
      ]
    },
    {
      "cell_type": "code",
      "metadata": {
        "id": "ihLlfBv4NTjL"
      },
      "source": [
        "# SOME PART OF THE CODE HAS BEEN WRITTEN FOR YOU\n",
        "\n",
        "dt1 = DecisionTreeRegressor(max_depth = 1, random_state = 20) #The decision tree model you need to use. Don't change parameters.\n",
        "\n",
        "# START YOUR CODE HERE:\n",
        "\n",
        "dt1.fit(x_train, y_train)\n",
        "y_predict_train_1 = dt1.predict(x_train)\n",
        "y_predict_test_1 = dt1.predict(x_test)\n",
        "sq_err_train_1 = metrics.mean_squared_error(y_predict_train_1, y_train)\n",
        "sq_err_test_1 = metrics.mean_squared_error(y_predict_test_1, y_test)\n",
        "# END YOUR CODE HERE"
      ],
      "execution_count": 4,
      "outputs": []
    },
    {
      "cell_type": "code",
      "metadata": {
        "id": "n-ZHWlVsUUtD"
      },
      "source": [
        "# SUBSTITUTE YOUR ANSWER IN PLACE OF None\n",
        "\n",
        "ans[0] = sq_err_train_1\n",
        "ans[1] = sq_err_test_1"
      ],
      "execution_count": 5,
      "outputs": []
    },
    {
      "cell_type": "code",
      "metadata": {
        "colab": {
          "base_uri": "https://localhost:8080/"
        },
        "id": "q740jDYcxwQ-",
        "outputId": "591d134b-bbd1-4a41-f013-a3005e73619a"
      },
      "source": [
        "print(ans[0],ans[1])"
      ],
      "execution_count": 11,
      "outputs": [
        {
          "output_type": "stream",
          "name": "stdout",
          "text": [
            "4327.119510681643 3974.3411198764256\n"
          ]
        }
      ]
    },
    {
      "cell_type": "markdown",
      "metadata": {
        "id": "AQETIzFbYdVg"
      },
      "source": [
        "### **QUESTION 2**: Fit a Decision Tree Classifier with max_depth = 2 on the training dataset. Assign the train set mean squared error to ans[2] and the test set mean squared error to ans[3]. (2 marks)"
      ]
    },
    {
      "cell_type": "code",
      "metadata": {
        "id": "84XPnBgaVfWN"
      },
      "source": [
        "# SOME PART OF THE CODE HAS BEEN WRITTEN FOR YOU\n",
        "\n",
        "dt4 = DecisionTreeRegressor(max_depth = 2, random_state = 20) #The decision tree model you need to use. Don't change parameters.\n",
        "\n",
        "# START YOUR CODE HERE:\n",
        "\n",
        "dt4.fit(x_train, y_train)\n",
        "y_predict_train_2 = dt4.predict(x_train)\n",
        "y_predict_test_2 = dt4.predict(x_test)\n",
        "sq_err_trn_2 = metrics.mean_squared_error(y_predict_train_2, y_train)\n",
        "sq_err_tst_2 = metrics.mean_squared_error(y_predict_test_2, y_test)\n",
        "\n",
        "# END YOUR CODE HERE"
      ],
      "execution_count": 7,
      "outputs": []
    },
    {
      "cell_type": "code",
      "metadata": {
        "id": "ZLy0-ZcVYlXc"
      },
      "source": [
        "# SUBSTITUTE YOUR ANSWER IN PLACE OF None\n",
        "\n",
        "ans[2] = sq_err_trn_2\n",
        "ans[3] = sq_err_tst_2"
      ],
      "execution_count": 8,
      "outputs": []
    },
    {
      "cell_type": "code",
      "metadata": {
        "colab": {
          "base_uri": "https://localhost:8080/"
        },
        "id": "1ZS2uCDNyWjS",
        "outputId": "8dbb5ad0-776c-4220-efa3-86da94649fd0"
      },
      "source": [
        "print(ans[2],ans[3])"
      ],
      "execution_count": 14,
      "outputs": [
        {
          "output_type": "stream",
          "name": "stdout",
          "text": [
            "3459.000928662067 3522.558075122498\n"
          ]
        }
      ]
    },
    {
      "cell_type": "markdown",
      "metadata": {
        "id": "0KDYxndBZLgt"
      },
      "source": [
        "Did the accuracy for test set go down?"
      ]
    },
    {
      "cell_type": "markdown",
      "metadata": {
        "id": "uLBr_PMuY6g_"
      },
      "source": [
        "### **QUESTION 3**: Fit a Decision Tree Classifier with max_depth = 5 on the training dataset. Assign the train set accuracy to ans[4] and the test set accuracy to ans[5]. (2 marks)"
      ]
    },
    {
      "cell_type": "code",
      "metadata": {
        "id": "t1Duo-miXzA3"
      },
      "source": [
        "# SOME PART OF THE CODE HAS BEEN WRITTEN FOR YOU\n",
        "\n",
        "dt5 = DecisionTreeRegressor( max_depth = 5, random_state = 20) #The decision tree that you need to use. Don't change parameters.\n",
        "\n",
        "# START YOUR CODE HERE:\n",
        "\n",
        "dt5.fit(x_train, y_train)\n",
        "y_predict_train_5 = dt5.predict(x_train)\n",
        "y_predict_test_5 = dt5.predict(x_test)\n",
        "sq_err_train_5 = metrics.mean_squared_error(y_predict_train_5, y_train)\n",
        "sq_err_test_5 = metrics.mean_squared_error(y_predict_test_5, y_test)\n",
        "\n",
        "# END YOUR CODE HERE"
      ],
      "execution_count": 15,
      "outputs": []
    },
    {
      "cell_type": "code",
      "metadata": {
        "id": "7_2CkxB7X7SM"
      },
      "source": [
        "# SUBSTITUTE YOUR ANSWER IN PLACE OF None\n",
        "\n",
        "ans[4] = sq_err_train_5\n",
        "ans[5] = sq_err_test_5"
      ],
      "execution_count": 17,
      "outputs": []
    },
    {
      "cell_type": "markdown",
      "metadata": {
        "id": "neSLl4qBZQCz"
      },
      "source": [
        "Did the accuracy of the test set go down again? If not then why? Is overfitting the reason?\n",
        "\n",
        "### **PLOTTING TRAIN AND TEST ACCURACY VS DEPTH OF TREES**\n",
        "\n",
        "Let's try to plot the train and test accuracy vs max_depth.\n",
        "Some part of the code has been written for you."
      ]
    },
    {
      "cell_type": "markdown",
      "metadata": {
        "id": "TUDfDc8cOzMM"
      },
      "source": [
        "### **QUESTION 4**: Fit a Decision Tree Classifier with max_depth = d where d varies from 1-6 (both inclusive) on the training dataset. Assign the depth for which the test mean squared error is least, to ans[6]. (2 marks)"
      ]
    },
    {
      "cell_type": "code",
      "metadata": {
        "id": "EBJQOaaYaSnm"
      },
      "source": [
        "# SOME OF THE CODE HAS BEEN WRITTEN FOR YOU\n",
        "\n",
        "depth = []                               # List containing depth of decision tree.\n",
        "train_mse = []                           # Train accuracy of corresponding tree.\n",
        "test_mse = []                            # Test accuracy of corresponding tree.\n",
        "\n",
        "# Dont forget to set random_state = 10 for your decision tree model.\n",
        "\n",
        "\n",
        "# START YOUR CODE HERE:\n",
        "\n",
        "for i in range(6):\n",
        "    depth.append(i+1)\n",
        "    dt = DecisionTreeRegressor( max_depth = depth[i], random_state = 10)\n",
        "    dt.fit(x_train, y_train)\n",
        "    y_predict_train = dt.predict(x_train)\n",
        "    y_predict_test = dt.predict(x_test)\n",
        "    train_mse.append(metrics.mean_squared_error(y_predict_train, y_train))\n",
        "    test_mse.append(metrics.mean_squared_error(y_predict_test, y_test))\n",
        "\n",
        "ind = test_mse.index(min(test_mse))\n",
        "req_depth = depth[ind]    \n",
        "\n",
        "# END YOUR CODE HERE"
      ],
      "execution_count": 18,
      "outputs": []
    },
    {
      "cell_type": "code",
      "metadata": {
        "id": "Xg8YUGWJPbvR"
      },
      "source": [
        "# SUBSTITUTE YOUR ANSWER IN PLACE OF None\n",
        "\n",
        "ans[6] = req_depth"
      ],
      "execution_count": 19,
      "outputs": []
    },
    {
      "cell_type": "markdown",
      "metadata": {
        "id": "B7ZVrzRAg4wN"
      },
      "source": [
        "### PLOTTING MEAN SQUARED ERROR VS THE DEPTH OF THE TREE\n",
        "\n",
        "You can try to plot the train mean squared error and the test mean squared error vs the depth of the tree for gaining a better insight.\n",
        "\n",
        "Some part of the matplotlib code has been written for you."
      ]
    },
    {
      "cell_type": "code",
      "metadata": {
        "id": "hTSgVE2Fg0Ng",
        "colab": {
          "base_uri": "https://localhost:8080/",
          "height": 295
        },
        "outputId": "0b4a49cd-b963-40f6-d099-bbd1df91b48d"
      },
      "source": [
        "\n",
        "plt.plot(depth, train_mse, c = \"r\", label = \"Train Mse\")\n",
        "plt.plot(depth, test_mse, c = \"g\", label = \"Test Mse\")\n",
        "plt.legend()\n",
        "plt.xlim(1)\n",
        "plt.xticks(ticks = [i for i in range(1, 7)])\n",
        "plt.title(\"Mean Squared Error vs Max Depth\")\n",
        "plt.xlabel(\"Max depth of the Decision Tree\")\n",
        "plt.ylabel(\"Mean Squared Error\")\n",
        "plt.show()\n"
      ],
      "execution_count": 21,
      "outputs": [
        {
          "output_type": "display_data",
          "data": {
            "image/png": "[encoded data removed]",
            "text/plain": [
              "<Figure size 432x288 with 1 Axes>"
            ]
          },
          "metadata": {
            "needs_background": "light"
          }
        }
      ]
    },
    {
      "cell_type": "markdown",
      "metadata": {
        "id": "3K2FbfaUhWWP"
      },
      "source": [
        "## **PRUNING**\n",
        "\n",
        "We will look at one way to prune a decision tree."
      ]
    },
    {
      "cell_type": "markdown",
      "metadata": {
        "id": "K4mfNIRURc4A"
      },
      "source": [
        "## USING SKLEARN'S INBUILT PRUNING ALGORITHM\n",
        "We will use a inbuilt parameter in the sklearn Decision Tree Regressor model called ccp_alpha to prune the Decision Trees formed.\n",
        "\n",
        "**Minimal Cost Complexity Pruning**: One of the types of pruning in Decision Trees. \n",
        "\n",
        "It utilises a complexity parameter **alpha** (alpha > 0). It is used to define a cost complexity measure of a tree as:-\n",
        "\n",
        "$R_{alpha}(T) = R(T) + alpha*|T|$ where |T| are the number of terminal nodes in the tree, R(T) is the misclassification rate of the terminal nodes (a mean squared error type of quantity for regression and accuracy type of quantity for classification).\n",
        "\n",
        "R(T) as you must have noticed always favours bigger trees as their misclassification rate would be always lower (remember we are talking about training set misclassification rate). So to penalise the bigger ones alpha*|T| term is added as it would favour a smaller tree.\n",
        "\n",
        "alpha is what we call a hyperparameter. We need to find the best values of alpha to decrease the test set mean squared error.\n",
        "\n"
      ]
    },
    {
      "cell_type": "markdown",
      "metadata": {
        "id": "nRW7nb5pR1Qb"
      },
      "source": [
        "### **QUESTION 5**: For which values of alpha (a) 10 (b) 50 (c) 100 (d) 200 is the test mean squared error the lowest? (We will use a tree with max_depth = 4). Assign your answer (the value of alpha and not the option) to ans[7]. (3 marks)\n",
        " "
      ]
    },
    {
      "cell_type": "code",
      "metadata": {
        "id": "ThCkE11IcOSs"
      },
      "source": [
        "# SOME OF THE MATPLOTLIB CODE HAS BEEN WRITTEN FOR YOU\n",
        "\n",
        "Train_mse = []                           # Train accuracy of corresponding tree.\n",
        "Test_mse = []                            # Test accuracy of corresponding tree.\n",
        "alphas = [10, 50, 100, 200]\n",
        "\n",
        "#KEEP ALL PARAMETERS OTHER THAN ccp_alpha the same. REPLACE None WITH THE GIVEN VALUES OF ALPHA BEFORE FITTING ON THE TRAIN SET.\n",
        "# dt_temp = DecisionTreeRegressor(max_depth = 4, random_state = 10, ccp_alpha = None)\n",
        "\n",
        "# START YOUR CODE HERE\n",
        "\n",
        "\n",
        "for i in range(4):\n",
        "    dt_temp = DecisionTreeRegressor(max_depth = 4, random_state = 10, ccp_alpha = alphas[i])\n",
        "    dt.fit(x_train, y_train)\n",
        "    y_predict_train = dt.predict(x_train)\n",
        "    y_predict_test = dt.predict(x_test)\n",
        "    Train_mse.append(metrics.mean_squared_error(y_predict_train, y_train))\n",
        "    Test_mse.append(metrics.mean_squared_error(y_predict_test, y_test))\n",
        "    \n",
        "Ind = Test_mse.index(min(Test_mse))\n",
        "Req_alpha = alphas[Ind]      \n",
        "\n",
        "# END YOUR CODE HERE"
      ],
      "execution_count": 22,
      "outputs": []
    },
    {
      "cell_type": "code",
      "metadata": {
        "id": "wMZ6A42BFHZz"
      },
      "source": [
        "# SUBSTITUTE YOUR ANSWER IN PLACE OF None\n",
        "\n",
        "ans[7] = Req_alpha"
      ],
      "execution_count": 23,
      "outputs": []
    },
    {
      "cell_type": "code",
      "metadata": {
        "id": "XJDaRfrJeWaF"
      },
      "source": [
        "import json\n",
        "ans = [str(item) for item in ans]\n",
        "\n",
        "filename = \"group25_Nanisetty_Sai_Shailesh_Issues_Classification\"\n",
        "\n",
        "# Eg if your name is Saurav Joshi and group id is 0, filename becomes\n",
        "# filename = group0_Saurav_Joshi_Issues_Classification"
      ],
      "execution_count": 24,
      "outputs": []
    },
    {
      "cell_type": "markdown",
      "metadata": {
        "id": "F8ltfHSHNk8b"
      },
      "source": [
        "## Do not change anything below!!\n",
        "- Make sure you have changed the above variable \"filename\" with the correct value. Do not change anything below!!\""
      ]
    },
    {
      "cell_type": "code",
      "metadata": {
        "id": "ezzn-HqwwDSx"
      },
      "source": [
        "from importlib import import_module\n",
        "import os\n",
        "from pprint import pprint\n",
        "\n",
        "findScore = import_module('findScore')\n",
        "response = findScore.main(ans)\n",
        "response['details'] = filename\n",
        "with open(f'evaluation_{filename}.json', 'w') as outfile:\n",
        "    json.dump(response, outfile)\n",
        "pprint(response)"
      ],
      "execution_count": null,
      "outputs": []
    }
  ]
}