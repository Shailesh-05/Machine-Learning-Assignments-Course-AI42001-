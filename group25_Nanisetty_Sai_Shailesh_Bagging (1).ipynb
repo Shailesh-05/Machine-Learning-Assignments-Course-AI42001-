{
  "nbformat": 4,
  "nbformat_minor": 0,
  "metadata": {
    "colab": {
      "name": "group25_Nanisetty_Sai_Shailesh_Bagging.ipynb",
      "provenance": [],
      "collapsed_sections": []
    },
    "kernelspec": {
      "display_name": "Python 3",
      "language": "python",
      "name": "python3"
    },
    "language_info": {
      "codemirror_mode": {
        "name": "ipython",
        "version": 3
      },
      "file_extension": ".py",
      "mimetype": "text/x-python",
      "name": "python",
      "nbconvert_exporter": "python",
      "pygments_lexer": "ipython3",
      "version": "3.8.8"
    }
  },
  "cells": [
    {
      "cell_type": "markdown",
      "metadata": {
        "id": "pGWWA_Qof_tW"
      },
      "source": [
        "# BAGGING\n",
        "\n",
        "Bagging improves the performance of several basic algorithms by making it more robust.\n",
        "\n",
        "We will look at Linear Regression and Decision Tree Regressor model as our base models for Bagging.\n",
        "\n",
        "We will use a housing price dataset (regression problem) with 13 features and 506 data samples."
      ]
    },
    {
      "cell_type": "markdown",
      "metadata": {
        "id": "QQbVgiox726I"
      },
      "source": [
        "## IMPORTING PACKAGES\n",
        "\n",
        "The important packages have been imported for you."
      ]
    },
    {
      "cell_type": "code",
      "metadata": {
        "id": "OmMjJpbMbXBk"
      },
      "source": [
        "# IMPORTING IMPORTANT PACKAGES\n",
        "# RUN THE CELL AS IT IS.\n",
        "# DO NOT CHANGE THIS CELL!\n",
        "\n",
        "import numpy as np\n",
        "import pandas as pd\n",
        "import json\n",
        "import matplotlib.pyplot as plt\n",
        "from sklearn.datasets import load_boston\n",
        "from sklearn.metrics import mean_squared_error\n",
        "from sklearn.linear_model import LinearRegression\n",
        "from sklearn.tree import DecisionTreeRegressor\n",
        "from sklearn.model_selection import train_test_split\n",
        "ans = [0]*7"
      ],
      "execution_count": 2,
      "outputs": []
    },
    {
      "cell_type": "markdown",
      "metadata": {
        "id": "hixbemiQj97e"
      },
      "source": [
        "## RANDOM NUMBER/LIST GENERATOR\n",
        "\n",
        "We will be using this function to generate a list of random numbers to get consistent results which are important for evaluation. While doing your own projects and work you can use libraries like random and numpy.\n",
        "\n",
        "A brief description of the function:\n",
        "\n",
        "_random_generator(seed, low, high, size)_\n",
        "\n",
        "**seed** = A different seed generates a new list of random number but for the same seed, the same random number is generated.\n",
        "\n",
        "**low** = Lower limit of the range in which to generate random numbers. (**INCLUSIVE**)\n",
        "\n",
        "**high** = Upper limit of the range in which to generate random numbers. (**EXCLUSIVE**)\n",
        "\n",
        "**size** = Number of random numbers to generate. If size = 1, then one scalar number is returned. If size>1 then a list of random numbers is generated.\n",
        "\n",
        "Similar for _unique_random_generator_. This function returns a list of unique random numbers unline _random_generator_"
      ]
    },
    {
      "cell_type": "code",
      "metadata": {
        "id": "BnOIgojnkFEP"
      },
      "source": [
        "def random_generator(seed = 0, low = 0, high = None, size = None):\n",
        "    s = seed\n",
        "    a = 11\n",
        "    b = 13\n",
        "\n",
        "    if high is None:\n",
        "        return (\"Error. Upper Limit not found\")\n",
        "    if size is None:\n",
        "        return (\"Error. Size not found\")\n",
        "    if size == 1:\n",
        "        return ((a*s+b)%high)\n",
        "    random_list = []\n",
        "    for i in range(size):\n",
        "        random_list.append((a*s+b)%high)\n",
        "        s = (a*s+b)\n",
        "    return random_list"
      ],
      "execution_count": 3,
      "outputs": []
    },
    {
      "cell_type": "markdown",
      "metadata": {
        "id": "NgOhXYm579DV"
      },
      "source": [
        "## LOADING DATASET\n",
        "The dataset is of a regression problem.\n",
        "\n",
        "The target label is housing price. There are 13 features all of which are numerical in nature.\n"
      ]
    },
    {
      "cell_type": "code",
      "metadata": {
        "id": "-d4XNpBPfMpk",
        "colab": {
          "base_uri": "https://localhost:8080/"
        },
        "outputId": "b3ad012d-a6b4-4698-a1a4-d8365a43072b"
      },
      "source": [
        "# LOADING THE DATASET\n",
        "# RUN THE CELL AS IT IS\n",
        "# DO NOT CHANGE THIH CELL\n",
        "\n",
        "# reg_dataset -> Regression Dataset : Boston Dataset with Housing price as the target and 13 Features related to the houses.\n",
        "# There are no categorical variables.\n",
        "\n",
        "def load_dataset():\n",
        "    reg_x, reg_y = load_boston(return_X_y = True)\n",
        "    reg_data = np.concatenate((reg_x, np.array(reg_y).reshape(-1, 1)), axis = 1)\n",
        "    cols = [\"feature\"+str(i) for i in range(1, 14)]\n",
        "    cols = cols + [\"price(target)\"]\n",
        "    reg_dataset = pd.DataFrame(data = reg_data, columns = cols)\n",
        "\n",
        "    return reg_dataset\n",
        "\n",
        "reg_dataset = load_dataset()\n",
        "print(\"REGRESSION DATASET : \\n\", reg_dataset)"
      ],
      "execution_count": 4,
      "outputs": [
        {
          "output_type": "stream",
          "name": "stdout",
          "text": [
            "REGRESSION DATASET : \n",
            "      feature1  feature2  feature3  ...  feature12  feature13  price(target)\n",
            "0     0.00632      18.0      2.31  ...     396.90       4.98           24.0\n",
            "1     0.02731       0.0      7.07  ...     396.90       9.14           21.6\n",
            "2     0.02729       0.0      7.07  ...     392.83       4.03           34.7\n",
            "3     0.03237       0.0      2.18  ...     394.63       2.94           33.4\n",
            "4     0.06905       0.0      2.18  ...     396.90       5.33           36.2\n",
            "..        ...       ...       ...  ...        ...        ...            ...\n",
            "501   0.06263       0.0     11.93  ...     391.99       9.67           22.4\n",
            "502   0.04527       0.0     11.93  ...     396.90       9.08           20.6\n",
            "503   0.06076       0.0     11.93  ...     396.90       5.64           23.9\n",
            "504   0.10959       0.0     11.93  ...     393.45       6.48           22.0\n",
            "505   0.04741       0.0     11.93  ...     396.90       7.88           11.9\n",
            "\n",
            "[506 rows x 14 columns]\n"
          ]
        }
      ]
    },
    {
      "cell_type": "markdown",
      "metadata": {
        "id": "ik2zgN9zgVn3"
      },
      "source": [
        "## SPLITTING INTO TRAIN AND TEST SET\n",
        "\n",
        "We will divide the dataset into train and test set in the ratio 8:2.\n",
        "Sklearn's built-in function \"train_test_split\" is supposed to be used.\n",
        "\n",
        "eg:- train_x, test_x, train_y, test_y = train_test_split(x, y, test_size = k, random_state = integer)  where k is a floating point number between 0 and 1. The number signifies the fraction of dataset to be given to the test dataset.\n",
        "\n",
        "**NOTE**: Use random_state = 40 for evaluation purposes\n",
        "\n",
        "Confirm that your training and test set are correctly alloted by checking with the number of samples in each."
      ]
    },
    {
      "cell_type": "code",
      "metadata": {
        "id": "CYYB4xzxzfdz"
      },
      "source": [
        "# DIVIDE THE DATASET INTO TRAINING AND TEST SET\n",
        "# Use \"train_test_split\" from sklearn to split the dataset into 8:2 ratio.\n",
        "# TRAINING SET SIZE : TEST SET SIZE = 8 : 2\n",
        "# NOTE: USE \"random_state = 40\" WHILE SPLITTING. OTHERWISE EVALUATION MIGHT BE WRONG\n",
        "\n",
        "# START YOUR CODE HERE\n",
        "\n",
        "data_matrix = reg_dataset.drop(columns = [\"price(target)\"])\n",
        "target_vector = reg_dataset[\"price(target)\"]\n",
        "x_train, x_test, y_train, y_test = train_test_split(data_matrix, target_vector, test_size = 0.2, random_state = 40) \n",
        "\n",
        "# END YOUR CODE HERE"
      ],
      "execution_count": 5,
      "outputs": []
    },
    {
      "cell_type": "markdown",
      "metadata": {
        "id": "q8SuUYrbH4ZD"
      },
      "source": [
        "## QUESTIONS:\n",
        "The first part of the assignment focuses on Linear Regression Models and the second part focuses on Decision Tree models.\n",
        "\n",
        "Places where you need to write your code have been indicated. Some parameters have been fixed for evaluation purposes. Be careful not to change them."
      ]
    },
    {
      "cell_type": "markdown",
      "metadata": {
        "id": "954KWjs0rHkC"
      },
      "source": [
        "#### **BAGGING WITH LINEAR REGRESSION MODELS**"
      ]
    },
    {
      "cell_type": "markdown",
      "metadata": {
        "id": "gmZGRqKnhlGT"
      },
      "source": [
        "### **QUESTION 1**: Fit a Linear Regression model on  randomly sampled (with replacement) training data and assign the mean squared error of the predictions on the test set to ans[0]. (1 mark).\n",
        "**NOTE**: You can use the mean squared error from sklearn which has been imported above for you.\n",
        "\n",
        "**NOTE**: While randomly sampling we need to select 404 training samples but not all of them need to be unique.\n",
        "\n",
        "**HINT**: mse = mean_squared_error(y_true, y_pred) where the mean squared error gets stored in the variable mse.\n",
        "\n",
        "**HINT**: df.iloc[[0, 2, 0, 4], 1] selects the 1st, 3rd, 1st and 5th data sample(row) from the df DataFrame."
      ]
    },
    {
      "cell_type": "code",
      "metadata": {
        "id": "UkQLqfLFZkiF"
      },
      "source": [
        "# SOME PART OF THE CODE HAS BEEN WRITTEN FOR YOU. DO NOT CHANGE THEM OTHERWISE IT MIGHT BE WRONGLY EVALUATED.\n",
        "# THE DATA SAMPLES HAVE BEEN SELECTED FOR YOU FOR EVALUATION PURPOSES.\n",
        "\n",
        "\n",
        "linreg1 = LinearRegression()                 # 1st Linear Regression Model for you to use\n",
        "row_index1 = random_generator(1, 0, 404, 404) # Row indexes that you need to fit your model on. Do not change it.\n",
        "\n",
        "# Try to print row_index to understand what \"randomly sampled with replacement means\"\n",
        "\n",
        "# START YOUR CODE HERE:\n",
        "\n",
        "data_1 = reg_dataset.loc[row_index1]\n",
        "X_1 = data_1.drop(columns = [\"price(target)\"])\n",
        "Y_1 = data_1[\"price(target)\"]\n",
        "linreg1.fit(X_1, Y_1)\n",
        "y_predict_1 = linreg1.predict(x_test)\n",
        "mse_1 = mean_squared_error(y_test, y_predict_1)\n",
        "\n",
        "# END YOUR CODE HERE"
      ],
      "execution_count": 6,
      "outputs": []
    },
    {
      "cell_type": "code",
      "metadata": {
        "id": "QkwQhqgOkuT_"
      },
      "source": [
        "# SUBSTITUTE YOUR ANSWER IN PLACE OF None\n",
        "\n",
        "ans[0] = mse_1"
      ],
      "execution_count": 7,
      "outputs": []
    },
    {
      "cell_type": "code",
      "metadata": {
        "colab": {
          "base_uri": "https://localhost:8080/"
        },
        "id": "2lbvdick6SLa",
        "outputId": "4fa67b8a-66ea-4dbf-e4c2-f1eefe5d95d6"
      },
      "source": [
        "ans[0]"
      ],
      "execution_count": 12,
      "outputs": [
        {
          "output_type": "execute_result",
          "data": {
            "text/plain": [
              "50.761720884375734"
            ]
          },
          "metadata": {},
          "execution_count": 12
        }
      ]
    },
    {
      "cell_type": "markdown",
      "metadata": {
        "id": "oArkbM4fj4cW"
      },
      "source": [
        "### **QUESTION 2**: Fit a second linear Regression model on new randomly sampled (with replacement) training data and assign the mean squared error of the average of the predictions of the two linear regression models on the test set to ans[1]. (1 mark)\n",
        "eg:- If for a particular data point, model1 predicts 20.0 and model2 predicts 30.0 then the final prediction should be 25.0.\n",
        "\n",
        "**WARNING**: The question asks for the mean squared error of the predictions and not the predictions themselves."
      ]
    },
    {
      "cell_type": "code",
      "metadata": {
        "id": "ALm_gV2TbL9d"
      },
      "source": [
        "# SOME PART OF THE CODE HAS BEEN WRITTEN FOR YOU. DO NOT CHANGE WHERE NOT INDICATED.\n",
        "# THE DATA SAMPLES HAVE BEEN SELECTED FOR YOU\n",
        "\n",
        "linreg2 = LinearRegression()                   # 2nd Linear Regression Model\n",
        "row_index2 = random_generator(3, 0, 404, 404)   # Row indexes that you need to fit your model on. Do not change it.\n",
        "\n",
        "# Use the previous linear regression model (linreg1) as your first model. You have already trained your linreg1 so, \n",
        "# you do not need to do that again. The final predictions would be the average of the predictions of these two models.\n",
        "\n",
        "# START YOUR CODE HERE:\n",
        "\n",
        "data_2 = reg_dataset.loc[row_index2]\n",
        "X_2 = data_2.drop(columns = [\"price(target)\"])\n",
        "Y_2 = data_2[\"price(target)\"]\n",
        "linreg2.fit(X_2, Y_2)\n",
        "y_predict_2 = linreg2.predict(x_test)\n",
        "y_predict_avg = (y_predict_1 + y_predict_2)/2\n",
        "mse_2 = mean_squared_error(y_test, y_predict_avg)\n",
        "\n",
        "\n",
        "# END YOUR CODE HERE"
      ],
      "execution_count": 9,
      "outputs": []
    },
    {
      "cell_type": "code",
      "metadata": {
        "id": "xOszhR9qoh0F"
      },
      "source": [
        "# SUBSTITUTE YOUR ANSWER IN PLACE OF None\n",
        "\n",
        "ans[1] = mse_2"
      ],
      "execution_count": 10,
      "outputs": []
    },
    {
      "cell_type": "code",
      "metadata": {
        "colab": {
          "base_uri": "https://localhost:8080/"
        },
        "id": "uOmo2zCH6PRw",
        "outputId": "9e2d99a9-df65-442b-d183-e5a06d188ce1"
      },
      "source": [
        "ans[1]"
      ],
      "execution_count": 11,
      "outputs": [
        {
          "output_type": "execute_result",
          "data": {
            "text/plain": [
              "46.061576977856625"
            ]
          },
          "metadata": {},
          "execution_count": 11
        }
      ]
    },
    {
      "cell_type": "markdown",
      "metadata": {
        "id": "uXnpab3BkvQe"
      },
      "source": [
        "Did the combined predictions have a lower mean squared error compared to the individual mean squared errors of the two models?"
      ]
    },
    {
      "cell_type": "markdown",
      "metadata": {
        "id": "xPKf7txfk9zj"
      },
      "source": [
        "### **QUESTION 3**: Fit a third linear Regression model on  new randomly sampled (with replacement) training data and assign the mean squared error of the average of the predictions  of the three linear regression models on the test set to ans[2].    (2 marks)\n",
        "eg:- If for a particular data point, model1 predicts 20.0, model2 predicts 30.0 and model3 predicts 70.0 then the final prediction should be (20.0+30.0+70.0)/3 = 60.0.\n",
        "\n",
        "**WARNING**: The question asks for the mean squared error of the predictions and not the predictions themselves."
      ]
    },
    {
      "cell_type": "code",
      "metadata": {
        "id": "pTqKefc4WPGj"
      },
      "source": [
        "# SOME PART OF THE CODE HAS BEEN WRITTEN FOR YOU. DO NOT CHANGE WHERE NOT INDICATED.\n",
        "# THE DATA SAMPLES HAVE BEEN SELECTED FOR YOU\n",
        "\n",
        "linreg3 = LinearRegression()                  # 3rd Linear Regression Model\n",
        "row_index3 = random_generator(5, 0, 404, 404)      # Row indexes that you need to fit your model on. Do not change it.\n",
        "\n",
        "# linreg1, linreg2 and linreg3 would be your 3 models. You have already fitted linreg1 and linreg2 so you do not need to \n",
        "# train them again.\n",
        "\n",
        "# START YOUR CODE HERE:. \n",
        "\n",
        "data_3 = reg_dataset.loc[row_index3]\n",
        "X_3 = data_3.drop(columns = [\"price(target)\"])\n",
        "Y_3 = data_3[\"price(target)\"]\n",
        "linreg3.fit(X_3, Y_3)\n",
        "y_predict_3 = linreg3.predict(x_test)\n",
        "y_predict_Avg = (y_predict_1 + y_predict_2 + y_predict_3)/3\n",
        "mse_3 = mean_squared_error(y_test, y_predict_Avg)\n",
        "\n",
        "\n",
        "# END YOUR CODE HERE"
      ],
      "execution_count": 14,
      "outputs": []
    },
    {
      "cell_type": "code",
      "metadata": {
        "id": "StsvpP6Ur-Gz",
        "colab": {
          "base_uri": "https://localhost:8080/"
        },
        "outputId": "a55b1b7b-877a-400c-c36c-95d9fdc2117d"
      },
      "source": [
        "# SUBSTITUTE YOUR ANSWER IN PLACE OF None\n",
        "\n",
        "ans[2] = mse_3 \n",
        "ans[2]"
      ],
      "execution_count": 16,
      "outputs": [
        {
          "output_type": "execute_result",
          "data": {
            "text/plain": [
              "41.76643389130624"
            ]
          },
          "metadata": {},
          "execution_count": 16
        }
      ]
    },
    {
      "cell_type": "markdown",
      "metadata": {
        "id": "-ZwqG5Yumz6W"
      },
      "source": [
        "Did the mean squared error of the averaged predictions (ensembled predictions) reduced further? Is it less than the individual mean squared errors of the models?"
      ]
    },
    {
      "cell_type": "markdown",
      "metadata": {
        "id": "mnV4AbeBnC14"
      },
      "source": [
        "### **QUESTION 4**: Fit a fourth linear Regression model on new randomly sampled training data and assign the mean squared error of the average of the predictions of the four linear regression models on the test set to ans[3]. (1 mark)\n",
        "**WARNING**; The question asks for the mean squared error of the predictions and not the predictions themselves."
      ]
    },
    {
      "cell_type": "code",
      "metadata": {
        "id": "IaAHQn_6_sHQ"
      },
      "source": [
        "# SOME PART OF THE CODE HAS BEEN WRITTEN FOR YOU. DO NOT CHANGE WHERE NOT INDICATED.\n",
        "# THE DATA SAMPLES HAVE BEEN SELECTED FOR YOU\n",
        "\n",
        "linreg4 = LinearRegression()                  # 3rd Linear Regression Model\n",
        "row_index4 = random_generator(7, 0, 404, 404)    # Row indexes that you need to fit your model on. Do not change it.\n",
        "\n",
        "# Use the previous 3 models(linreg1, linreg2, linreg3) and do not train them again.\n",
        "\n",
        "# START YOUR CODE HERE:. \n",
        "\n",
        "data_4 = reg_dataset.loc[row_index4]\n",
        "X_4 = data_4.drop(columns = [\"price(target)\"])\n",
        "Y_4 = data_4[\"price(target)\"]\n",
        "linreg4.fit(X_4, Y_4)\n",
        "y_predict_4 = linreg4.predict(x_test)\n",
        "y_Predict_Avg = (y_predict_1 + y_predict_2 + y_predict_3 + y_predict_4)/4\n",
        "mse_4 = mean_squared_error(y_test, y_Predict_Avg)\n",
        "\n",
        "# END YOUR CODE HERE"
      ],
      "execution_count": 17,
      "outputs": []
    },
    {
      "cell_type": "code",
      "metadata": {
        "id": "ED44sOCVAAuI",
        "colab": {
          "base_uri": "https://localhost:8080/"
        },
        "outputId": "afaca894-13ab-4ace-c3f6-3e6164b87301"
      },
      "source": [
        "# SUBSTITUTE YOUR ANSWER IN PLACE OF None\n",
        "\n",
        "ans[3] = mse_4\n",
        "ans[3]"
      ],
      "execution_count": 18,
      "outputs": [
        {
          "output_type": "execute_result",
          "data": {
            "text/plain": [
              "37.83192656593195"
            ]
          },
          "metadata": {},
          "execution_count": 18
        }
      ]
    },
    {
      "cell_type": "markdown",
      "metadata": {
        "id": "jVulVpHnoHVV"
      },
      "source": [
        "Did the mean squared error reduce this time as well? If not, then why?\n",
        "\n",
        "So the final error depends also on how good the individual models are. Let's look at how a large number of models perform together."
      ]
    },
    {
      "cell_type": "markdown",
      "metadata": {
        "id": "YfWURQ2spgk5"
      },
      "source": [
        "### **QUESTION 5**: Fit 50 linear Regression models on randomly sampled training data (new random sampling for each model) and assign the mean squared error of the average of the predictions of the 50 linear regression models on the test set to ans[4]. (2 marks)\n",
        "eg:- If model1 predicts y1, model2 predicts y2 and so on till y50, then final prediction would be (y1+y2+...+y50)/50.\n",
        "\n",
        "**WARNING**; The question asks for the mean squared error of the predictions and not the predictions themselves."
      ]
    },
    {
      "cell_type": "code",
      "metadata": {
        "id": "CkdyOmy4AG7U"
      },
      "source": [
        "# SOME PART OF THE CODE HAS BEEN WRITTEN FOR YOU. DO NOT CHANGE WHERE NOT INDICATED.\n",
        "# FEEL FREE TO USE MORE CELLS FOR YOUR CODE.\n",
        "# THE DATA SAMPLES HAVE BEEN SELECTED FOR YOU\n",
        "# HINT: You can add the predictions in a for loop.\n",
        "\n",
        "n = 50                                           # 50 Linear Regression models \n",
        "\n",
        "Row_Index = []\n",
        "np.random.seed(10)                               # Used for consistent answers for evaluation purposes\n",
        "subset_seed = random_generator(10, 0, 200, n)\n",
        "for i in range(n):\n",
        "    np.random.seed(subset_seed[i])                            # Used for consistent answers for evaluation purposes\n",
        "    Row_Index.append(random_generator(subset_seed[i], 0, 404, 404)) # Row indexes that you need to fit your model on. Do not change it.\n",
        "    \n",
        "  # START YOUR CODE HERE:\n",
        "\n",
        "y_predict = []\n",
        "for i in range(n):\n",
        "    data = reg_dataset.loc[Row_Index[i]]\n",
        "    X = data.drop(columns = [\"price(target)\"])\n",
        "    Y = data[\"price(target)\"]\n",
        "    linreg = LinearRegression()\n",
        "    linreg.fit(X, Y)\n",
        "    y_predict.append(linreg.predict(x_test))\n",
        "    \n",
        "Y_Predict_Avg = sum(y_predict)/50\n",
        "mse_LR = mean_squared_error(y_test, Y_Predict_Avg)\n",
        "\n",
        "\n",
        "  # END YOUR CODE HERE"
      ],
      "execution_count": 19,
      "outputs": []
    },
    {
      "cell_type": "code",
      "metadata": {
        "id": "VdnNvKphAHAO",
        "colab": {
          "base_uri": "https://localhost:8080/"
        },
        "outputId": "23715598-432b-46a4-c024-6c51ba81ffa9"
      },
      "source": [
        "# SUBSTITUTE YOUR ANSWER IN PLACE OF None\n",
        "\n",
        "ans[4] = mse_LR\n",
        "ans[4]"
      ],
      "execution_count": 20,
      "outputs": [
        {
          "output_type": "execute_result",
          "data": {
            "text/plain": [
              "45.83348170149024"
            ]
          },
          "metadata": {},
          "execution_count": 20
        }
      ]
    },
    {
      "cell_type": "markdown",
      "metadata": {
        "id": "NDvLAI-hqQb2"
      },
      "source": [
        "Is it lower than the previous mean squared errors? \n",
        "If yes, does it go down till 0? To check that try plotting the test mean squared error vs no of linear regression models used.\n",
        "\n",
        "Some of the matplotlib code has been written for you."
      ]
    },
    {
      "cell_type": "markdown",
      "metadata": {
        "id": "olb6n0TmuB_z"
      },
      "source": [
        "#### PLOTTING TEST MSE VS NUM OF MODELS USED"
      ]
    },
    {
      "cell_type": "code",
      "metadata": {
        "id": "er4isr2XAG9p",
        "colab": {
          "base_uri": "https://localhost:8080/",
          "height": 295
        },
        "outputId": "72490fb7-4ef0-4ec9-fb4f-2a92d1581917"
      },
      "source": [
        "# num_models : list of the number of models\n",
        "# test_mse : list of the corresponding test mean squared error\n",
        "\n",
        "num_models = [1, 2, 3, 4, 50]        # remember to replace it with your number of models used\n",
        "test_mse = [mse_1, mse_2, mse_3, mse_4, mse_LR]          # remember to replace it with your test mean square errors\n",
        "\n",
        "\n",
        "plt.plot(num_models, test_mse, c = \"b\", label = \"Test Mean Squared Error\")\n",
        "plt.xlabel(\"Number of Linear Regression Models\")\n",
        "plt.legend()\n",
        "plt.ylabel(\"Mean Squared Error\")\n",
        "plt.title(\"Mean Squared Error vs Num of Linear Regression Models\")\n",
        "plt.gca().set_xlim(left = 0)\n",
        "plt.show()"
      ],
      "execution_count": 21,
      "outputs": [
        {
          "output_type": "display_data",
          "data": {
            "image/png": "[encoded data removed]",
            "text/plain": [
              "<Figure size 432x288 with 1 Axes>"
            ]
          },
          "metadata": {
            "needs_background": "light"
          }
        }
      ]
    },
    {
      "cell_type": "markdown",
      "metadata": {
        "id": "G4PSn4C1qu8Z"
      },
      "source": [
        "Can you justify why bagging helps?\n",
        "If there is slight dip in the test mse curve (i.e it does not saturate at its lowest point) can you explain why is it?\n",
        "\n",
        "**HINT**: You can also try plotting the mean sqaured error of the predictions on the _WHOLE_ training set to gather more insight."
      ]
    },
    {
      "cell_type": "markdown",
      "metadata": {
        "id": "sJFnnptfrQiV"
      },
      "source": [
        "#### **BAGGING WITH DECISION TREE MODELS**"
      ]
    },
    {
      "cell_type": "markdown",
      "metadata": {
        "id": "2nj1soMPrbsy"
      },
      "source": [
        "### **QUESTION 6**: Fit a single DecisionTree Regression model on randomly sampled(with replacement) training data and assign the mean squared error of the predictions on the test set to ans[5]. (1 mark)"
      ]
    },
    {
      "cell_type": "code",
      "metadata": {
        "id": "ztDG1UjD1D60"
      },
      "source": [
        "# SOME PART OF THE CODE HAS BEEN WRITTEN FOR YOU. DO NOT MAKE CHANGES WHERE NOT INDICATED.\n",
        "# THE DATA SAMPLES HAVE BEEN SELECTED FOR YOU.\n",
        "\n",
        "dt1 = DecisionTreeRegressor(max_depth = 3, random_state = 10)    # Decision tree that you have to use. Don't change parameters.\n",
        "row_index_d1 = random_generator(8, 0, 404, 404)              # Row indexes that you need to fit your model on. Do not change it.\n",
        " \n",
        "# START YOUR CODE HERE:. \n",
        "\n",
        "data_d1 = reg_dataset.loc[row_index_d1]\n",
        "X_d1 = data_d1.drop(columns = [\"price(target)\"])\n",
        "Y_d1 = data_d1[\"price(target)\"]\n",
        "dt1.fit(X_d1, Y_d1)\n",
        "y_predict_d1 = dt1.predict(x_test)\n",
        "mse_d1 = mean_squared_error(y_test, y_predict_d1)\n",
        "\n",
        "\n",
        "# END YOUR CODE HERE"
      ],
      "execution_count": 22,
      "outputs": []
    },
    {
      "cell_type": "code",
      "metadata": {
        "id": "Lf_P5m3M2a7s",
        "colab": {
          "base_uri": "https://localhost:8080/"
        },
        "outputId": "de8f5991-3386-46b1-a0db-d63a169ee784"
      },
      "source": [
        "# SUBSTITUTE YOUR ANSWER IN PLACE OF None\n",
        "\n",
        "ans[5] = mse_d1\n",
        "ans[5]"
      ],
      "execution_count": 23,
      "outputs": [
        {
          "output_type": "execute_result",
          "data": {
            "text/plain": [
              "22.732453054086747"
            ]
          },
          "metadata": {},
          "execution_count": 23
        }
      ]
    },
    {
      "cell_type": "markdown",
      "metadata": {
        "id": "13JGpdIwsdIP"
      },
      "source": [
        "### **QUESTION 7**: Train and fit 50 Decision Trees on randomly sampled training data (new random sampling for each decision tree) and assign the mean squared error of the average of all predictions on the test set to ans[6]. (2 marks)\n",
        "eg:- If model1 predicts y1, model2 predicts y2 and so on till y50, then final prediction would be (y1+y2+...+y50)/50.\n",
        "\n",
        "**WARNING**: The question asks for the mean squared error and not the final prediction."
      ]
    },
    {
      "cell_type": "code",
      "metadata": {
        "id": "Tf856N7_W8eg"
      },
      "source": [
        "# SOME PART OF THE CODE HAS BEEN WRITTEN FOR YOU. DO NOT MAKE CHANGES WHERE NOT INDICATED.\n",
        "# THE DATA SAMPLE HAS BEEN SELECTED FOR YOU.\n",
        "\n",
        "n = 50\n",
        "\n",
        "Row_Index_d = []\n",
        "np.random.seed(11)                                                  # Used for consistent answers for evaluation purposes.\n",
        "subset_seed = random_generator(9, 0, 200, n)\n",
        "for i in range(n):\n",
        "    Row_Index_d.append(random_generator(subset_seed[i], 0, 404, 404))                     # Row indexes that you need to fit your model on. Do not change it.\n",
        "#    Row_Index_d.append(DecisionTreeRegressor(max_depth = 3, random_state = 10))      # Decision Tree that you need to use.Don't change parameters.\n",
        "\n",
        "  # START YOUR CODE HERE:\n",
        "\n",
        "y_predict_d = []\n",
        "for i in range(n):\n",
        "    data_d = reg_dataset.loc[Row_Index_d[i]]\n",
        "    X = data_d.drop(columns = [\"price(target)\"])\n",
        "    Y = data_d[\"price(target)\"]\n",
        "    dt = DecisionTreeRegressor(max_depth = 3, random_state = 10)\n",
        "    dt.fit(X, Y)\n",
        "    y_predict_d.append(dt.predict(x_test))\n",
        "    \n",
        "Y_Predict_Avg_d = sum(y_predict_d)/50\n",
        "mse_DT = mean_squared_error(y_test, Y_Predict_Avg_d)\n",
        "\n",
        "  # END YOUR CODE HERE"
      ],
      "execution_count": 24,
      "outputs": []
    },
    {
      "cell_type": "code",
      "metadata": {
        "id": "ZWGQ1JrgjYPD",
        "colab": {
          "base_uri": "https://localhost:8080/"
        },
        "outputId": "00d329fa-f01f-48ea-bfa0-49d7f970c4f6"
      },
      "source": [
        "# SUBSTITUTE YOUR ANSWER IN PLACE OF None\n",
        "\n",
        "ans[6] = mse_DT\n",
        "ans[6]"
      ],
      "execution_count": 25,
      "outputs": [
        {
          "output_type": "execute_result",
          "data": {
            "text/plain": [
              "15.147732553177406"
            ]
          },
          "metadata": {},
          "execution_count": 25
        }
      ]
    },
    {
      "cell_type": "markdown",
      "metadata": {
        "id": "zXi-uVyNtLMR"
      },
      "source": [
        "Try to plot the test mean squared error vs the num of decision trees used for that prediction. The graph should be similar to the Linear Regression graph. \n",
        "\n",
        "You can also try to plot the mean squared error of the predictions on the _WHOLE_ training dataset to gain more insight.\n",
        "\n",
        "Some of the matplotlib code has been written for you."
      ]
    },
    {
      "cell_type": "markdown",
      "metadata": {
        "id": "ijXWHiyDt7f7"
      },
      "source": [
        "#### PLOTTING THE TEST MSE VS NUM OF DECISION TREES"
      ]
    },
    {
      "cell_type": "code",
      "metadata": {
        "id": "hfyVl6W3SoWZ",
        "colab": {
          "base_uri": "https://localhost:8080/",
          "height": 295
        },
        "outputId": "4d0bf33a-ea03-4114-814f-7fbf120e6e9b"
      },
      "source": [
        "# num_trees : list of the number of trees\n",
        "# test_mse : list of the corresponding test mean squared error\n",
        "\n",
        "num_trees = [1, 50]         # remember to replace it with your implemented code\n",
        "test_mse = [mse_d1, mse_DT]          # remember to replace it with your implemented code\n",
        "\n",
        "\n",
        "plt.plot(num_trees, test_mse, c = \"b\", label = \"Test Mean Squared Error\")\n",
        "plt.xlabel(\"Number of Linear Regression Models\")\n",
        "plt.legend()\n",
        "plt.ylabel(\"Mean Squared Error\")\n",
        "plt.title(\"Mean Squared Error vs Num of Linear Regression Models\")\n",
        "plt.gca().set_xlim(left = 0)\n",
        "plt.show()"
      ],
      "execution_count": 26,
      "outputs": [
        {
          "output_type": "display_data",
          "data": {
            "image/png": "[encoded data removed]",
            "text/plain": [
              "<Figure size 432x288 with 1 Axes>"
            ]
          },
          "metadata": {
            "needs_background": "light"
          }
        }
      ]
    },
    {
      "cell_type": "markdown",
      "metadata": {
        "id": "bxdkZl-ltxf-"
      },
      "source": [
        "Did the Decision Tree Perform better or the Linear Regression Model?\n",
        "\n",
        "Was there a dip in the test mean squared error in the Decision Trees?\n",
        "\n",
        "Keep the test mean square error in mind for the next assignment where we will tweak the decision tree model a bit to arrive at a very popular model called Random Forest model."
      ]
    },
    {
      "cell_type": "code",
      "metadata": {
        "id": "8rd4vNkMUlCn"
      },
      "source": [
        "import json\n",
        "ans = [str(item) for item in ans]\n",
        "\n",
        "filename = \"group25_Nanisetty_Sai_Shailesh_Bagging\"\n",
        "\n",
        "# Eg if your name is Saurav Joshi and group id is 0, filename becomes\n",
        "# filename = group0_Saurav_Joshi_Bagging"
      ],
      "execution_count": 27,
      "outputs": []
    },
    {
      "cell_type": "markdown",
      "metadata": {
        "id": "PPfsGXKVOWH3"
      },
      "source": [
        "## Do not change anything below!!\n",
        "- Make sure you have changed the above variable \"filename\" with the correct value. Do not change anything below!!"
      ]
    },
    {
      "cell_type": "code",
      "metadata": {
        "id": "tSJAs8nLd-6f"
      },
      "source": [
        "from importlib import import_module\n",
        "import os\n",
        "from pprint import pprint\n",
        "\n",
        "findScore = import_module('findScore')\n",
        "response = findScore.main(ans)\n",
        "response['details'] = filename\n",
        "with open(f'evaluation_{filename}.json', 'w') as outfile:\n",
        "    json.dump(response, outfile)\n",
        "pprint(response)"
      ],
      "execution_count": null,
      "outputs": []
    }
  ]
}