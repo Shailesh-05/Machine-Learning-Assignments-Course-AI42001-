{
 "cells": [
  {
   "cell_type": "markdown",
   "metadata": {
    "id": "JbIKDfFW45Ux"
   },
   "source": [
    "# FEATURE SELECTION\n",
    "Feature selection is a process where you automatically or manually select those features which have the maximum contribution to your model prediction output. Having irrelevant features can lead to a decrease in accuracy as your model learns from insignificant features.\n",
    "\n",
    "This assignment will focus on manual selection of relevant features.\n",
    "The dataset is of different camera models with different featues and their price. \n",
    "\n",
    "The assignment has both marked questions and unmarked ones. \n",
    "All questions written beside QUESTION # are evaluated for your final score and the ones that are not have been given only to improve your understanding."
   ]
  },
  {
   "cell_type": "markdown",
   "metadata": {
    "id": "lTtpMl2W54P7"
   },
   "source": [
    "## 1. Importing Important Packages"
   ]
  },
  {
   "cell_type": "code",
   "execution_count": null,
   "metadata": {
    "id": "UMOQ75XN4v9X"
   },
   "outputs": [],
   "source": [
    "# ALL NECESSARY PACKAGES HAVE BEEN IMPORTED FOR YOU\n",
    "# DO NOT MAKE ANY CHANGES IN THIS CODE CELL!\n",
    "\n",
    "import numpy as np\n",
    "import pandas as pd\n",
    "import matplotlib.pyplot as plt\n",
    "from sklearn.linear_model import LinearRegression \n",
    "from sklearn.model_selection import train_test_split\n",
    "import json\n",
    "ans = [None]*8"
   ]
  },
  {
   "cell_type": "markdown",
   "metadata": {
    "id": "sJApY7_B8sbD"
   },
   "source": [
    "## 2. Importing the Dataset\n"
   ]
  },
  {
   "cell_type": "code",
   "execution_count": null,
   "metadata": {
    "id": "oK2veMTk468d"
   },
   "outputs": [],
   "source": [
    "# THE DATASET HAS BEEN IMPORTED AND STORED IN THE VARIABLE DATASET\n",
    "# A SMALL SET OF THE DATA HAS BEEN SHOWN WHICH WILL GIVE A BRIEF UNDERSTANDING OF THE DATASET\n",
    "# THE DESCRIPTION OF THE DATA HAS ALSO BEEN PRINTED\n",
    "# DO NOT MAKE CHANGES IN THE CELL!\n",
    "\n",
    "dataset = pd.read_csv(\"camera_dataset.csv\")\n",
    "dataset.head()"
   ]
  },
  {
   "cell_type": "code",
   "execution_count": null,
   "metadata": {
    "id": "bIhwr-q7AsO4"
   },
   "outputs": [],
   "source": [
    "# OBSERVE THE STATISTICS OF THE DIFFERENT FEATURES OF THE DATASET\n",
    "# DO NOT CHANGE THIS CELL\n",
    "\n",
    "print(\"Statistics of the Dataset: \\n\")\n",
    "dataset.describe()"
   ]
  },
  {
   "cell_type": "code",
   "execution_count": null,
   "metadata": {
    "id": "7cCgm80jIviq"
   },
   "outputs": [],
   "source": [
    "# Find the total number of NaN values present in the dataset.\n",
    "# HINT: You can use \"df.isna()\" function (where df is your dataframe) from pandas to find NaN values.\n",
    "\n",
    "# START YOUR CODE HERE:\n",
    "\n",
    "\n",
    "\n",
    "\n",
    "# END YOUR CODE HERE"
   ]
  },
  {
   "cell_type": "code",
   "execution_count": null,
   "metadata": {
    "id": "zXBAd9tPCL6R"
   },
   "outputs": [],
   "source": [
    "# THE NaN VALUES HAVE BEEN CLEANED BY REMOVING THE CORRESPONDING DATA POINTS. \n",
    "# THE CLEANED DATASET IS STORED IN THE VARIABLE \"data\". USE IT FOR FURTHER USE\n",
    "\n",
    "# DO NOT CHANGE THIS CELL!\n",
    "\n",
    "def remove_nan(df):\n",
    "  df_copy = df.copy()\n",
    "  df_copy.dropna(inplace = True)\n",
    "  return df_copy\n",
    "\n",
    "data = remove_nan(dataset)"
   ]
  },
  {
   "cell_type": "markdown",
   "metadata": {
    "id": "ZVIfC2jA_o7C"
   },
   "source": [
    "## 3. UNDERSTANDING THE DATA"
   ]
  },
  {
   "cell_type": "code",
   "execution_count": null,
   "metadata": {
    "id": "SLLdMjUXFO9-"
   },
   "outputs": [],
   "source": [
    "# Find the number of data points i.e rows in the cleaned dataset i.e data variable. You can already see in an above cell how many features i.e columns there are.\n",
    "\n",
    "# wRITE YOUR CODE HERE\n",
    "\n",
    "\n",
    "\n",
    "\n",
    "# END YOUR CODE HERE"
   ]
  },
  {
   "cell_type": "code",
   "execution_count": null,
   "metadata": {
    "id": "_qK4guei9Lqm"
   },
   "outputs": [],
   "source": [
    "# QUESTION 1: Find the datatype of the values stored in the \"Model\" column of the dataset and write them inside inverted commas. () (1 marks)\n",
    "# QUESTION 2: Find the datatype of the values stored in the \"Dimensions\" column of the dataset and write them inside inverted commas. (1 marks)\n",
    "#                Assign the answer of Question 1 to ans[0],\n",
    "#                Assign the answer of Question 2 to ans[1]. \n",
    "#                eg:- ans[0] = \"int64\"/\"float64\" if the ans is int64/float64\n",
    "# NOTE: Do not write \"int\". Write \"int64\"."
   ]
  },
  {
   "cell_type": "code",
   "execution_count": null,
   "metadata": {
    "id": "JcaUEO0zBAY-"
   },
   "outputs": [],
   "source": [
    "# START YOUR CODE HERE:\n",
    "\n",
    "\n",
    "\n",
    "\n",
    "# END CODE HERE"
   ]
  },
  {
   "cell_type": "code",
   "execution_count": null,
   "metadata": {
    "id": "NOY9NKQPDXVV"
   },
   "outputs": [],
   "source": [
    "# WRITE YOUR ANSWERS HERE BY SUBSTITUTING None WITH YOUR ANSWER:\n",
    "# DO NOT CHANGE THE INDEXES! OTHERWISE THE ANSWER MIGHT BE EVALUATED WRONG!\n",
    "\n",
    "ans[0] = None \n",
    "ans[1] = None"
   ]
  },
  {
   "cell_type": "code",
   "execution_count": null,
   "metadata": {
    "id": "yd8DFuD8AY_S"
   },
   "outputs": [],
   "source": [
    "# QUESTION 3: Find out the number of unique release dates present in the dataset under the \"Release date\" column. (1 mark)\n",
    "#             Assign the answer to ans[2].\n"
   ]
  },
  {
   "cell_type": "code",
   "execution_count": null,
   "metadata": {
    "id": "xgHedvLkIOxX"
   },
   "outputs": [],
   "source": [
    "# START YOUR CODE HERE\n",
    "\n",
    "\n",
    "\n",
    "\n",
    "\n",
    "# END YOUR CODE HERE"
   ]
  },
  {
   "cell_type": "code",
   "execution_count": null,
   "metadata": {
    "id": "EBZbszSWIWNZ"
   },
   "outputs": [],
   "source": [
    "# WRITE YOUR ANSWER HERE BY SUBSTITUTING None WITH YOUR ANSWER\n",
    "\n",
    "ans[2] = None  "
   ]
  },
  {
   "cell_type": "code",
   "execution_count": null,
   "metadata": {
    "id": "GSpZtVmBKVQI"
   },
   "outputs": [],
   "source": [
    "# If you run the same for the \"Model\" column you will observe that the \n",
    "# model column is unique and cannot be treated as a feature for predicting the price.\n",
    "# Hence we will not bother about that column from now."
   ]
  },
  {
   "cell_type": "markdown",
   "metadata": {
    "id": "-trfPH_iECbQ"
   },
   "source": [
    "## 4. VISUALIZING THE DATA"
   ]
  },
  {
   "cell_type": "code",
   "execution_count": null,
   "metadata": {
    "id": "sbv2hLggHcoJ"
   },
   "outputs": [],
   "source": [
    "# RUN THE CELL BELOW TO OBSERVE THE HISTOGRAM OF THE \"Release date\" COLUMN\n",
    "# DO NOT CHANGE THIS CELL!\n",
    "data.hist(column = \"Release date\")"
   ]
  },
  {
   "cell_type": "code",
   "execution_count": null,
   "metadata": {
    "id": "dEy3_WsNWOI4"
   },
   "outputs": [],
   "source": [
    "# TRY PLOTTING THE HISTOGRAM FOR THE OTHER COLUMNS\n",
    "\n",
    "# HINT 1: You can use a for loop to plot the histogram for all the columns in one go.\n",
    "# HINT 2: The code, \"dataset.columns\" gives a list of the columns of the dataset. \n",
    "# HINT 3: The \"not in\" phrase can be used to find if an element is not present in a particular list.\n",
    "\n",
    "# START CODE HERE:\n",
    "\n",
    "\n",
    "\n",
    "\n",
    "\n",
    "\n",
    "# END CODE HERE"
   ]
  },
  {
   "cell_type": "markdown",
   "metadata": {
    "id": "Yd3WAjmsN4pB"
   },
   "source": [
    "## 5. CORRELATION OF DATA"
   ]
  },
  {
   "cell_type": "code",
   "execution_count": null,
   "metadata": {
    "id": "y4m_2Abhv6Dl"
   },
   "outputs": [],
   "source": [
    "# QUESTION 4: Find the column which has the highest negative correlation with the \"Price\" column. Write the column name \n",
    "#             and the aboslute value of the correlation (1 + 1 = 2 marks)\n",
    "#             eg: if correlation of A with B is -0.66 and correlation of A with C is -0.89 then the answer would be C and 0.89.\n",
    "#             Assign the column name to ans[3] and remember to put your answer inside inverted commas.\n",
    "#             Assign the correlation value to ans[4] and remember to write the absolute value i.e |x|.\n",
    "#             eg: ans[3] = \"Model\" if the answer is the Model column\n",
    "#             eg: ans[4] = 0.74 if the correlation value is -0.74. "
   ]
  },
  {
   "cell_type": "code",
   "execution_count": null,
   "metadata": {
    "id": "LKows3wDxpkQ"
   },
   "outputs": [],
   "source": [
    "# START YOUR CODE HERE:\n",
    "\n",
    "\n",
    "\n",
    "\n",
    "\n",
    "\n",
    "# END CODE HERE"
   ]
  },
  {
   "cell_type": "code",
   "execution_count": null,
   "metadata": {
    "id": "Z_iCmHqVxpq7"
   },
   "outputs": [],
   "source": [
    "ans[3] = None    \n",
    "ans[4] = None"
   ]
  },
  {
   "cell_type": "markdown",
   "metadata": {
    "id": "VNF8VghKOCzs"
   },
   "source": [
    "## 5. DISTINCTIVE FEATURES"
   ]
  },
  {
   "cell_type": "code",
   "execution_count": null,
   "metadata": {
    "id": "HXtJO4USvaCQ"
   },
   "outputs": [],
   "source": [
    "# QUESTION 5: Find the number of data points whose (a) price > 50 percentile mark AND (b) Release date > 50 percentile mark. (2 mark)\n",
    "#             NOTE: There are two conditions in the question above, both of which needs to be satisfied.\n",
    "#             Assign the answer to ans[5]."
   ]
  },
  {
   "cell_type": "code",
   "execution_count": null,
   "metadata": {
    "id": "rL77HD3oqJGC"
   },
   "outputs": [],
   "source": [
    "# START YOUR CODE:\n",
    "\n",
    "\n",
    "\n",
    "\n",
    "\n",
    "\n",
    "\n",
    "\n",
    "# END YOUR CODE"
   ]
  },
  {
   "cell_type": "code",
   "execution_count": null,
   "metadata": {
    "id": "j2ITBEIqqNaJ"
   },
   "outputs": [],
   "source": [
    "ans[5] = None    "
   ]
  },
  {
   "cell_type": "code",
   "execution_count": null,
   "metadata": {
    "id": "Nl_CGOr1S2tz"
   },
   "outputs": [],
   "source": [
    "# Also try finding the no data points whose (a) price > 50 percentile mark AND (b) Release Date < 59 percentile mark. \n",
    "\n",
    "# Can you justify why \"Release date >/< 50 percentile mark\" is not a good distinctive feature?\n",
    "\n",
    "# Repeat the above steps with \"Release data >/< (a) 25 percentile mark (b) 75 percentile mark (c)mean.\n",
    " . \n",
    "# Can you justify why \"Release date\" is not a good distinctive feature at all?"
   ]
  },
  {
   "cell_type": "code",
   "execution_count": null,
   "metadata": {
    "id": "QzrPzLgHXn77"
   },
   "outputs": [],
   "source": [
    "# QUESTION 6: Find the number of data points whose (a) price > 50 percentile mark AND (b) Weight (inc. batteries) > 75th percentile mark.(2 mark)\n",
    "#             NOTE: BOTH the conditions stated above need to be satisfied.\n",
    "#             Assign the answer to ans[6]."
   ]
  },
  {
   "cell_type": "code",
   "execution_count": null,
   "metadata": {
    "id": "doYVbbB8KnqX"
   },
   "outputs": [],
   "source": [
    "# START YOUR CODE HERE:\n",
    "\n",
    "\n",
    "\n",
    "\n",
    "\n",
    "\n",
    "# END YOUR CODE HERE"
   ]
  },
  {
   "cell_type": "code",
   "execution_count": null,
   "metadata": {
    "id": "qsJy4JU1KsJ-"
   },
   "outputs": [],
   "source": [
    "# WRITE YOUR ANSWER HERE BY SUBSTITUTING None WITH YOUR ANSWER\n",
    "\n",
    "ans[6] = None       "
   ]
  },
  {
   "cell_type": "code",
   "execution_count": null,
   "metadata": {
    "id": "ZbcCa15yV2ec"
   },
   "outputs": [],
   "source": [
    "# Try the same with (a) price > 50 percentile mark AND (b) Weight (inc. batteries) < 75 percentile mark.\n",
    "# Can you justify whether Weight (inc. batteries) >/< 75 percentile mark is a good distinctive feature?\n",
    "# HINT: Weight (inc. batteries) > 75 percentile mark implies that price will be ?"
   ]
  },
  {
   "cell_type": "code",
   "execution_count": null,
   "metadata": {
    "id": "0sdSJhL2KHtb"
   },
   "outputs": [],
   "source": [
    "# TRY FITTING TWO LINEAR REGRESSION MODELS BY ONCE DROPPING THE FEATURE \"Weight (inc. batteries)\"\n",
    "# AND ONCE BY KEEPING ALL FEATURES. THEN COMPARE THE TRAINING/VALIDATION ACCURACY OF THE TWO\n",
    "# NOTE: A LINEAR REGRESSION MODEL HAS BEEN IMPLEMENTED FOR YOU IN THE CELL BELOW "
   ]
  },
  {
   "cell_type": "code",
   "execution_count": null,
   "metadata": {
    "id": "f8B7LuftM-gg"
   },
   "outputs": [],
   "source": [
    "# PRE IMPLEMENTED LINEAR REGRESSOR\n",
    "# CHANGE THIS CELL ONLY WHERE INDICATED!\n",
    "\n",
    "def implement_linear_reg():\n",
    "  # data_fs : Dataset from which you drop your most distinctive feature\n",
    "  # data :  The original Dataset with all features intact (except \"Model\" which we dropped earlier)\n",
    "  # X : the training features\n",
    "  # Y : the training label (the \"Price\" column)\n",
    "  # xtrain, xval : the training set and validation set respectively\n",
    "  # linreg : The linear regression model\n",
    "  \n",
    "  linreg = LinearRegression(fit_intercept = True, normalize = False)\n",
    "\n",
    "  data_fs = data.copy()              #Use data_fs as the dataset from where you drop the most distinctive feature. \n",
    "\n",
    "  # START YOUR CODE HERE:\n",
    "  \n",
    "  # You can write the column name enclosed within inverted commas inside the empty [] i.e eg: data_fs.drop(columns = [\"Model\"], inplace = True)\n",
    "  data_fs.drop(columns = [], inplace = True)\n",
    "\n",
    "  # END YOUR CODE HERE\n",
    "  \n",
    "  Y = data[\"Price\"]\n",
    "  X = data.drop(columns = [\"Price\"])\n",
    "  xtrain, xval, ytrain, yval = train_test_split(X, Y, test_size = 100, random_state = 40)\n",
    "  \n",
    "  linreg.fit(xtrain, ytrain)\n",
    "  \n",
    "\n",
    "  print(\"\\n Train Accuracy of Linear Regression model with distinctive feature = \", linreg.score(xtrain, ytrain))\n",
    "  print(\"\\n Validation Accuracy of Linear Regression model with distinctive feature = \", linreg.score(xval, yval))\n",
    "  \n",
    "  Y = data_fs[\"Price\"]\n",
    "  X = data_fs.drop(columns = [\"Price\"])\n",
    "  xtrain, xval, ytrain, yval = train_test_split(X, Y, test_size = 100, random_state = 40)\n",
    "\n",
    "  linreg.fit(xtrain, ytrain)\n",
    "  print(\"\\n Train Accuracy of Linear Regression model without distinctive feature = \", linreg.score(xtrain, ytrain))\n",
    "  print(\"\\n Validation Accuracy of Linear Regression model without distinctive feature = \", linreg.score(xval, yval))\n",
    "\n",
    "\n",
    "implement_linear_reg()"
   ]
  },
  {
   "cell_type": "code",
   "execution_count": null,
   "metadata": {
    "id": "Wz3hndonyQqx"
   },
   "outputs": [],
   "source": [
    "# RUN THE CODE BELOW TO GET YOUR ANSWERS EVALUATED.\n",
    "# DO NOT CHANGE THIS CELL!\n",
    "\n",
    "ans = [item for item in ans]\n",
    "with open(\"ans.json\", \"w\") as f:\n",
    "  json.dump(ans, f)\n"
   ]
  },
  {
   "cell_type": "code",
   "execution_count": null,
   "metadata": {
    "id": "ZvJAvjsNbPnW"
   },
   "outputs": [],
   "source": [
    "! ../submit ans.json"
   ]
  }
 ],
 "metadata": {
  "colab": {
   "authorship_tag": "ABX9TyPCE4RV1tHwHlcxxpq7fmS5",
   "collapsed_sections": [],
   "name": "unit7_Begin.ipynb",
   "provenance": []
  },
  "kernelspec": {
   "display_name": "Python 3",
   "language": "python",
   "name": "python3"
  },
  "language_info": {
   "codemirror_mode": {
    "name": "ipython",
    "version": 3
   },
   "file_extension": ".py",
   "mimetype": "text/x-python",
   "name": "python",
   "nbconvert_exporter": "python",
   "pygments_lexer": "ipython3",
   "version": "3.6.9"
  }
 },
 "nbformat": 4,
 "nbformat_minor": 1
}
