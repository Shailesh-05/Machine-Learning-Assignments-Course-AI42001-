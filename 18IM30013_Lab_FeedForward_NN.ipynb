{
  "nbformat": 4,
  "nbformat_minor": 0,
  "metadata": {
    "kernelspec": {
      "display_name": "Python 3",
      "language": "python",
      "name": "python3"
    },
    "language_info": {
      "codemirror_mode": {
        "name": "ipython",
        "version": 3
      },
      "file_extension": ".py",
      "mimetype": "text/x-python",
      "name": "python",
      "nbconvert_exporter": "python",
      "pygments_lexer": "ipython3",
      "version": "3.8.5"
    },
    "colab": {
      "name": "18IM30013_Nanisetty_Sai_Shailesh_Lab10Assignment.ipynb",
      "provenance": [],
      "collapsed_sections": []
    }
  },
  "cells": [
    {
      "cell_type": "markdown",
      "metadata": {
        "id": "DDDMSGI-y_N9"
      },
      "source": [
        "**Name:**Nanisetty Sai Shailesh\n",
        "**Roll No:**18IM30013"
      ]
    },
    {
      "cell_type": "markdown",
      "metadata": {
        "id": "T5IKPEwQyws8"
      },
      "source": [
        "# Question 1"
      ]
    },
    {
      "cell_type": "code",
      "metadata": {
        "id": "dun2T84RywtC"
      },
      "source": [
        "import numpy as np\n",
        "import pandas as pd       \n",
        "import tensorflow as tf\n",
        "import matplotlib.pyplot as plt\n",
        "from sklearn.preprocessing import LabelBinarizer"
      ],
      "execution_count": 1,
      "outputs": []
    },
    {
      "cell_type": "code",
      "metadata": {
        "id": "hcYL_HtrywtG"
      },
      "source": [
        "from tensorflow.keras.models import Sequential\n",
        "from tensorflow.keras.layers import Flatten\n",
        "from tensorflow.keras.layers import Dense\n",
        "from tensorflow.keras.optimizers import SGD\n",
        "from tensorflow.keras.datasets import mnist"
      ],
      "execution_count": 2,
      "outputs": []
    },
    {
      "cell_type": "code",
      "metadata": {
        "colab": {
          "base_uri": "https://localhost:8080/"
        },
        "id": "ZjJJUnPqywtI",
        "outputId": "1cf64e16-517d-4688-f779-f44326a0e8f0"
      },
      "source": [
        "print(\"MNIST dataset\")\n",
        "((trainX, trainY), (testX, testY)) = mnist.load_data()\n",
        "print('Shape of training data',trainX.shape)\n",
        "print('Shape of test data',testX.shape)"
      ],
      "execution_count": 3,
      "outputs": [
        {
          "output_type": "stream",
          "name": "stdout",
          "text": [
            "MNIST dataset\n",
            "Downloading data from https://storage.googleapis.com/tensorflow/tf-keras-datasets/mnist.npz\n",
            "11493376/11490434 [==============================] - 0s 0us/step\n",
            "11501568/11490434 [==============================] - 0s 0us/step\n",
            "Shape of training data (60000, 28, 28)\n",
            "Shape of test data (10000, 28, 28)\n"
          ]
        }
      ]
    },
    {
      "cell_type": "code",
      "metadata": {
        "colab": {
          "base_uri": "https://localhost:8080/",
          "height": 282
        },
        "id": "RT3aJiohywtK",
        "outputId": "e628c2d3-aae6-4ff8-e4bf-8510c260d215"
      },
      "source": [
        "plt.figure()\n",
        "plt.imshow(trainX[0])\n",
        "plt.colorbar()\n",
        "plt.show()\n",
        "print(trainY[0])"
      ],
      "execution_count": 4,
      "outputs": [
        {
          "output_type": "display_data",
          "data": {
            "image/png": "[encoded data removed]",
            "text/plain": [
              "<Figure size 432x288 with 2 Axes>"
            ]
          },
          "metadata": {
            "needs_background": "light"
          }
        },
        {
          "output_type": "stream",
          "name": "stdout",
          "text": [
            "5\n"
          ]
        }
      ]
    },
    {
      "cell_type": "code",
      "metadata": {
        "colab": {
          "base_uri": "https://localhost:8080/",
          "height": 286
        },
        "id": "7DVqRu3ZywtL",
        "outputId": "23ddd4ca-c94c-417e-dda9-b780d30c459a"
      },
      "source": [
        "trainX = trainX.astype(\"float32\") / 255.0\n",
        "testX = testX.astype(\"float32\") / 255.0\n",
        "plt.figure()\n",
        "plt.imshow(trainX[0])\n",
        "plt.colorbar()\n",
        "plt.show()\n",
        "print(trainY[0])"
      ],
      "execution_count": 5,
      "outputs": [
        {
          "output_type": "display_data",
          "data": {
            "image/png": "[encoded data removed]",
            "text/plain": [
              "<Figure size 432x288 with 2 Axes>"
            ]
          },
          "metadata": {
            "needs_background": "light"
          }
        },
        {
          "output_type": "stream",
          "name": "stdout",
          "text": [
            "5\n"
          ]
        }
      ]
    },
    {
      "cell_type": "code",
      "metadata": {
        "id": "QqDQjkJHywtM"
      },
      "source": [
        "lb = LabelBinarizer()\n",
        "trainY = lb.fit_transform(trainY)\n",
        "testY = lb.transform(testY)"
      ],
      "execution_count": 6,
      "outputs": []
    },
    {
      "cell_type": "code",
      "metadata": {
        "id": "06JJPpZTywtN"
      },
      "source": [
        "model = Sequential()\n",
        "model.add(Flatten(input_shape=(28,28)))\n",
        "model.add(Dense(100, activation=\"ReLU\"))\n",
        "model.add(Dense(10, activation=\"softmax\"))"
      ],
      "execution_count": 7,
      "outputs": []
    },
    {
      "cell_type": "code",
      "metadata": {
        "colab": {
          "base_uri": "https://localhost:8080/"
        },
        "id": "mfCpEJcmywtP",
        "outputId": "73267649-7901-4d6d-8ad6-bd874a3e493d"
      },
      "source": [
        "print(\"[Training network...\")\n",
        "sgd = SGD(0.01)\n",
        "model.compile(loss=\"categorical_crossentropy\", optimizer=sgd, metrics=[\"accuracy\"])\n",
        "H = model.fit(trainX, trainY, validation_data=(testX, testY), epochs=10)"
      ],
      "execution_count": 8,
      "outputs": [
        {
          "output_type": "stream",
          "name": "stdout",
          "text": [
            "[Training network...\n",
            "Epoch 1/10\n",
            "1875/1875 [==============================] - 4s 2ms/step - loss: 0.6709 - accuracy: 0.8300 - val_loss: 0.3630 - val_accuracy: 0.9029\n",
            "Epoch 2/10\n",
            "1875/1875 [==============================] - 4s 2ms/step - loss: 0.3411 - accuracy: 0.9038 - val_loss: 0.2953 - val_accuracy: 0.9199\n",
            "Epoch 3/10\n",
            "1875/1875 [==============================] - 4s 2ms/step - loss: 0.2916 - accuracy: 0.9173 - val_loss: 0.2619 - val_accuracy: 0.9262\n",
            "Epoch 4/10\n",
            "1875/1875 [==============================] - 4s 2ms/step - loss: 0.2615 - accuracy: 0.9263 - val_loss: 0.2399 - val_accuracy: 0.9309\n",
            "Epoch 5/10\n",
            "1875/1875 [==============================] - 4s 2ms/step - loss: 0.2387 - accuracy: 0.9330 - val_loss: 0.2226 - val_accuracy: 0.9360\n",
            "Epoch 6/10\n",
            "1875/1875 [==============================] - 3s 2ms/step - loss: 0.2205 - accuracy: 0.9380 - val_loss: 0.2066 - val_accuracy: 0.9412\n",
            "Epoch 7/10\n",
            "1875/1875 [==============================] - 3s 2ms/step - loss: 0.2049 - accuracy: 0.9422 - val_loss: 0.1941 - val_accuracy: 0.9444\n",
            "Epoch 8/10\n",
            "1875/1875 [==============================] - 4s 2ms/step - loss: 0.1918 - accuracy: 0.9459 - val_loss: 0.1845 - val_accuracy: 0.9462\n",
            "Epoch 9/10\n",
            "1875/1875 [==============================] - 4s 2ms/step - loss: 0.1806 - accuracy: 0.9495 - val_loss: 0.1747 - val_accuracy: 0.9489\n",
            "Epoch 10/10\n",
            "1875/1875 [==============================] - 4s 2ms/step - loss: 0.1707 - accuracy: 0.9523 - val_loss: 0.1670 - val_accuracy: 0.9509\n"
          ]
        }
      ]
    },
    {
      "cell_type": "code",
      "metadata": {
        "colab": {
          "base_uri": "https://localhost:8080/"
        },
        "id": "y0Y_RdJ_ywtQ",
        "outputId": "9f7844c0-b3f1-4c4a-c530-902bb03c51cd"
      },
      "source": [
        "print(\"Evaluating network...\")\n",
        "\n",
        "test_loss, test_acc = model.evaluate(testX,  testY)"
      ],
      "execution_count": 9,
      "outputs": [
        {
          "output_type": "stream",
          "name": "stdout",
          "text": [
            "Evaluating network...\n",
            "313/313 [==============================] - 0s 1ms/step - loss: 0.1670 - accuracy: 0.9509\n"
          ]
        }
      ]
    },
    {
      "cell_type": "code",
      "metadata": {
        "colab": {
          "base_uri": "https://localhost:8080/"
        },
        "id": "PQwQ9gTUywtR",
        "outputId": "1d15c2c7-e9ed-4f68-9ffa-5b8b883a78f1"
      },
      "source": [
        "predictions = model.predict(testX) # returns the class label probabilities for every data point in testX\n",
        "print(predictions[0])\n",
        "print(np.argmax(predictions[0]))"
      ],
      "execution_count": 10,
      "outputs": [
        {
          "output_type": "stream",
          "name": "stdout",
          "text": [
            "[5.2854895e-05 6.0092198e-08 3.7850862e-04 3.9058561e-03 1.8584394e-07\n",
            " 4.3927659e-05 2.9430718e-09 9.9549001e-01 1.1695630e-05 1.1686314e-04]\n",
            "7\n"
          ]
        }
      ]
    },
    {
      "cell_type": "code",
      "metadata": {
        "colab": {
          "base_uri": "https://localhost:8080/",
          "height": 295
        },
        "id": "uc4-lCt3ywtS",
        "outputId": "7227dbb6-a8b4-4e84-f5e3-878067174ab1"
      },
      "source": [
        "plt.figure()\n",
        "plt.plot(np.arange(0, 10), H.history[\"loss\"], label=\"train_loss\")\n",
        "plt.plot(np.arange(0, 10), H.history[\"val_loss\"], label=\"val_loss\")\n",
        "plt.plot(np.arange(0, 10), H.history[\"accuracy\"], label=\"train_acc\")\n",
        "plt.plot(np.arange(0, 10), H.history[\"val_accuracy\"], label=\"val_acc\")\n",
        "plt.title(\"Training Loss and Accuracy\")\n",
        "plt.xlabel(\"Epoch #\")\n",
        "plt.ylabel(\"Loss/Accuracy\")\n",
        "plt.legend()\n",
        "plt.show()"
      ],
      "execution_count": 11,
      "outputs": [
        {
          "output_type": "display_data",
          "data": {
            "image/png": "[encoded data removed]",
            "text/plain": [
              "<Figure size 432x288 with 1 Axes>"
            ]
          },
          "metadata": {
            "needs_background": "light"
          }
        }
      ]
    },
    {
      "cell_type": "markdown",
      "metadata": {
        "id": "pGE44AudywtT"
      },
      "source": [
        "# Question 2"
      ]
    },
    {
      "cell_type": "code",
      "metadata": {
        "id": "eaMRuwEZywtU"
      },
      "source": [
        "model = Sequential()\n",
        "model.add(Flatten(input_shape=(28,28)))\n",
        "model.add(Dense(10, activation=\"ReLU\"))\n",
        "model.add(Dense(10, activation=\"ReLU\"))\n",
        "model.add(Dense(10, activation=\"ReLU\"))\n",
        "model.add(Dense(10, activation=\"ReLU\"))\n",
        "model.add(Dense(10, activation=\"ReLU\"))\n",
        "model.add(Dense(10, activation=\"ReLU\"))\n",
        "model.add(Dense(10, activation=\"ReLU\"))\n",
        "model.add(Dense(10, activation=\"ReLU\"))\n",
        "model.add(Dense(10, activation=\"ReLU\"))\n",
        "model.add(Dense(10, activation=\"ReLU\"))\n",
        "model.add(Dense(10, activation=\"softmax\"))"
      ],
      "execution_count": 12,
      "outputs": []
    },
    {
      "cell_type": "code",
      "metadata": {
        "colab": {
          "base_uri": "https://localhost:8080/"
        },
        "id": "Tiw079PZywtV",
        "outputId": "03a8ecd6-2da3-40b7-9cd1-86440cb5fc0f"
      },
      "source": [
        "print(\"[Training network...\")\n",
        "sgd = SGD(0.01)\n",
        "model.compile(loss=\"categorical_crossentropy\", optimizer=sgd, metrics=[\"accuracy\"])\n",
        "H = model.fit(trainX, trainY, validation_data=(testX, testY), epochs=10)"
      ],
      "execution_count": 13,
      "outputs": [
        {
          "output_type": "stream",
          "name": "stdout",
          "text": [
            "[Training network...\n",
            "Epoch 1/10\n",
            "1875/1875 [==============================] - 4s 2ms/step - loss: 2.2604 - accuracy: 0.1415 - val_loss: 2.0048 - val_accuracy: 0.2115\n",
            "Epoch 2/10\n",
            "1875/1875 [==============================] - 4s 2ms/step - loss: 1.7113 - accuracy: 0.3172 - val_loss: 1.4501 - val_accuracy: 0.4459\n",
            "Epoch 3/10\n",
            "1875/1875 [==============================] - 4s 2ms/step - loss: 1.2072 - accuracy: 0.5670 - val_loss: 0.8318 - val_accuracy: 0.7506\n",
            "Epoch 4/10\n",
            "1875/1875 [==============================] - 3s 2ms/step - loss: 0.7741 - accuracy: 0.7673 - val_loss: 0.7098 - val_accuracy: 0.7831\n",
            "Epoch 5/10\n",
            "1875/1875 [==============================] - 4s 2ms/step - loss: 0.6464 - accuracy: 0.8126 - val_loss: 0.5976 - val_accuracy: 0.8397\n",
            "Epoch 6/10\n",
            "1875/1875 [==============================] - 4s 2ms/step - loss: 0.5545 - accuracy: 0.8435 - val_loss: 0.5634 - val_accuracy: 0.8478\n",
            "Epoch 7/10\n",
            "1875/1875 [==============================] - 4s 2ms/step - loss: 0.4923 - accuracy: 0.8635 - val_loss: 0.4501 - val_accuracy: 0.8790\n",
            "Epoch 8/10\n",
            "1875/1875 [==============================] - 4s 2ms/step - loss: 0.4503 - accuracy: 0.8768 - val_loss: 0.4484 - val_accuracy: 0.8835\n",
            "Epoch 9/10\n",
            "1875/1875 [==============================] - 4s 2ms/step - loss: 0.4191 - accuracy: 0.8850 - val_loss: 0.4537 - val_accuracy: 0.8829\n",
            "Epoch 10/10\n",
            "1875/1875 [==============================] - 4s 2ms/step - loss: 0.3986 - accuracy: 0.8910 - val_loss: 0.3978 - val_accuracy: 0.8953\n"
          ]
        }
      ]
    },
    {
      "cell_type": "code",
      "metadata": {
        "colab": {
          "base_uri": "https://localhost:8080/"
        },
        "id": "Jmz4tgf3ywtV",
        "outputId": "938887d7-0638-4e02-c5c8-a11aaa83a4ee"
      },
      "source": [
        "print(\"Evaluating network...\")\n",
        "test_loss, test_acc = model.evaluate(testX,  testY)"
      ],
      "execution_count": 14,
      "outputs": [
        {
          "output_type": "stream",
          "name": "stdout",
          "text": [
            "Evaluating network...\n",
            "313/313 [==============================] - 0s 1ms/step - loss: 0.3978 - accuracy: 0.8953\n"
          ]
        }
      ]
    },
    {
      "cell_type": "code",
      "metadata": {
        "colab": {
          "base_uri": "https://localhost:8080/"
        },
        "id": "JTLA4--Hywtb",
        "outputId": "f7ad173e-8697-46cc-953c-a791d5c19b61"
      },
      "source": [
        "predictions = model.predict(testX) # returns the class label probabilities for every data point in testX\n",
        "print(predictions[0])\n",
        "print(np.argmax(predictions[0]))"
      ],
      "execution_count": 15,
      "outputs": [
        {
          "output_type": "stream",
          "name": "stdout",
          "text": [
            "[4.2608804e-06 1.6788970e-07 5.6945339e-07 7.1211175e-06 6.5722321e-05\n",
            " 1.8791410e-03 5.2314842e-08 9.9038553e-01 7.0724464e-03 5.8498228e-04]\n",
            "7\n"
          ]
        }
      ]
    },
    {
      "cell_type": "code",
      "metadata": {
        "colab": {
          "base_uri": "https://localhost:8080/",
          "height": 295
        },
        "id": "TZSefrszywtb",
        "outputId": "a5b63b85-1e6a-498e-bcbe-00d9e5aef92f"
      },
      "source": [
        "plt.figure()\n",
        "plt.plot(np.arange(0, 10), H.history[\"loss\"], label=\"train_loss\")\n",
        "plt.plot(np.arange(0, 10), H.history[\"val_loss\"], label=\"val_loss\")\n",
        "plt.plot(np.arange(0, 10), H.history[\"accuracy\"], label=\"train_acc\")\n",
        "plt.plot(np.arange(0, 10), H.history[\"val_accuracy\"], label=\"val_acc\")\n",
        "plt.title(\"Training Loss and Accuracy\")\n",
        "plt.xlabel(\"Epoch #\")\n",
        "plt.ylabel(\"Loss/Accuracy\")\n",
        "plt.legend()\n",
        "plt.show()"
      ],
      "execution_count": 16,
      "outputs": [
        {
          "output_type": "display_data",
          "data": {
            "image/png": "[encoded data removed]",
            "text/plain": [
              "<Figure size 432x288 with 1 Axes>"
            ]
          },
          "metadata": {
            "needs_background": "light"
          }
        }
      ]
    },
    {
      "cell_type": "markdown",
      "metadata": {
        "id": "4FV9pPr_ywtc"
      },
      "source": [
        "# Question 3"
      ]
    },
    {
      "cell_type": "code",
      "metadata": {
        "id": "Mn6koX-1ywtc"
      },
      "source": [
        "model2 = Sequential()\n",
        "model2.add(Flatten(input_shape=(28,28)))\n",
        "model2.add(Dense(10, weights=model.layers[1].get_weights(), activation=\"ReLU\"))\n",
        "model2.add(Dense(10, weights=model.layers[2].get_weights(), activation=\"ReLU\"))\n",
        "model2.add(Dense(10, weights=model.layers[3].get_weights(), activation=\"ReLU\"))\n",
        "model2.add(Dense(10, weights=model.layers[4].get_weights(), activation=\"ReLU\"))\n",
        "model2.add(Dense(10, weights=model.layers[5].get_weights(), activation=\"ReLU\"))"
      ],
      "execution_count": 17,
      "outputs": []
    },
    {
      "cell_type": "code",
      "metadata": {
        "id": "ntf3u3ovywtd"
      },
      "source": [
        "model3 = Sequential()\n",
        "model3.add(Flatten(input_shape=(28,28)))\n",
        "model3.add(Dense(10, weights=model.layers[1].get_weights(), activation=\"ReLU\"))\n",
        "model3.add(Dense(10, weights=model.layers[2].get_weights(), activation=\"ReLU\"))\n",
        "model3.add(Dense(10, weights=model.layers[3].get_weights(), activation=\"ReLU\"))\n",
        "model3.add(Dense(10, weights=model.layers[4].get_weights(), activation=\"ReLU\"))\n",
        "model3.add(Dense(10, weights=model.layers[5].get_weights(), activation=\"ReLU\"))\n",
        "model3.add(Dense(10, weights=model.layers[6].get_weights(), activation=\"ReLU\"))\n",
        "model3.add(Dense(10, weights=model.layers[7].get_weights(), activation=\"ReLU\"))"
      ],
      "execution_count": 18,
      "outputs": []
    },
    {
      "cell_type": "code",
      "metadata": {
        "id": "xUtTspWrywte"
      },
      "source": [
        "model4 = Sequential()\n",
        "model4.add(Flatten(input_shape=(28,28)))\n",
        "model4.add(Dense(10, weights=model.layers[1].get_weights(), activation=\"ReLU\"))\n",
        "model4.add(Dense(10, weights=model.layers[2].get_weights(), activation=\"ReLU\"))\n",
        "model4.add(Dense(10, weights=model.layers[3].get_weights(), activation=\"ReLU\"))\n",
        "model4.add(Dense(10, weights=model.layers[4].get_weights(), activation=\"ReLU\"))\n",
        "model4.add(Dense(10, weights=model.layers[5].get_weights(), activation=\"ReLU\"))\n",
        "model4.add(Dense(10, weights=model.layers[6].get_weights(), activation=\"ReLU\"))\n",
        "model4.add(Dense(10, weights=model.layers[7].get_weights(), activation=\"ReLU\"))\n",
        "model4.add(Dense(10, weights=model.layers[8].get_weights(), activation=\"ReLU\"))\n",
        "model4.add(Dense(10, weights=model.layers[9].get_weights(), activation=\"ReLU\"))\n",
        "model4.add(Dense(10, weights=model.layers[10].get_weights(), activation=\"ReLU\"))"
      ],
      "execution_count": 19,
      "outputs": []
    },
    {
      "cell_type": "code",
      "metadata": {
        "colab": {
          "base_uri": "https://localhost:8080/"
        },
        "id": "eT6OlTdSywte",
        "outputId": "bb0e5180-1aa5-4c29-e7c1-4f639337daa8"
      },
      "source": [
        "from sklearn.neighbors import KNeighborsClassifier\n",
        "from sklearn import metrics\n",
        "knn = KNeighborsClassifier(n_neighbors=10)\n",
        "knn.fit(model2.predict(trainX),trainY)\n",
        "predY = knn.predict(model2.predict(testX))\n",
        "print(\"Accuracy:\",metrics.accuracy_score(testY, predY))"
      ],
      "execution_count": 20,
      "outputs": [
        {
          "output_type": "stream",
          "name": "stdout",
          "text": [
            "Accuracy: 0.8825\n"
          ]
        }
      ]
    },
    {
      "cell_type": "code",
      "metadata": {
        "colab": {
          "base_uri": "https://localhost:8080/"
        },
        "id": "733jJ04Sywtf",
        "outputId": "f9ba0f00-59c5-49f4-d150-793cf312579a"
      },
      "source": [
        "from sklearn.neighbors import KNeighborsClassifier\n",
        "from sklearn import metrics\n",
        "knn = KNeighborsClassifier(n_neighbors=10)\n",
        "knn.fit(model3.predict(trainX),trainY)\n",
        "predY = knn.predict(model3.predict(testX))\n",
        "print(\"Accuracy:\",metrics.accuracy_score(testY, predY))"
      ],
      "execution_count": 21,
      "outputs": [
        {
          "output_type": "stream",
          "name": "stdout",
          "text": [
            "Accuracy: 0.8774\n"
          ]
        }
      ]
    },
    {
      "cell_type": "code",
      "metadata": {
        "colab": {
          "base_uri": "https://localhost:8080/"
        },
        "id": "n7pB9Cnzywtg",
        "outputId": "618c77fd-4dce-4ea3-b5d4-b7d62dadc168"
      },
      "source": [
        "from sklearn.neighbors import KNeighborsClassifier\n",
        "from sklearn import metrics\n",
        "knn = KNeighborsClassifier(n_neighbors=10)\n",
        "knn.fit(model4.predict(trainX),trainY)\n",
        "predY = knn.predict(model4.predict(testX))\n",
        "print(\"Accuracy:\",metrics.accuracy_score(testY, predY))"
      ],
      "execution_count": 22,
      "outputs": [
        {
          "output_type": "stream",
          "name": "stdout",
          "text": [
            "Accuracy: 0.8781\n"
          ]
        }
      ]
    },
    {
      "cell_type": "code",
      "metadata": {
        "id": "yxJsP192ywtg"
      },
      "source": [
        ""
      ],
      "execution_count": null,
      "outputs": []
    },
    {
      "cell_type": "code",
      "metadata": {
        "id": "ZEr-wnTZywtg"
      },
      "source": [
        ""
      ],
      "execution_count": null,
      "outputs": []
    }
  ]
}